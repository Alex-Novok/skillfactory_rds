{
 "cells": [
  {
   "cell_type": "code",
   "execution_count": 1,
   "metadata": {},
   "outputs": [],
   "source": [
    "import pandas as pd\n",
    "import requests\n",
    "import bs4\n",
    "from bs4 import BeautifulSoup\n",
    "import time\n",
    "import json\n",
    "from joblib import Parallel, delayed\n",
    "import re\n",
    "import numpy as np\n",
    "import pandas_profiling\n",
    "\n",
    "from sklearn.preprocessing import LabelEncoder, OneHotEncoder, StandardScaler, PolynomialFeatures\n",
    "from sklearn.preprocessing import MultiLabelBinarizer\n",
    "from sklearn.feature_selection import f_regression, mutual_info_regression\n",
    "from sklearn.model_selection import train_test_split, KFold, RandomizedSearchCV, cross_val_score\n",
    "from sklearn.ensemble import RandomForestRegressor, BaggingRegressor, ExtraTreesRegressor, AdaBoostRegressor, GradientBoostingRegressor, StackingRegressor\n",
    "from sklearn.linear_model import LinearRegression\n",
    "from sklearn.metrics import mean_squared_error, make_scorer\n",
    "from catboost import CatBoostRegressor\n",
    "import xgboost as xgb\n"
   ]
  },
  {
   "cell_type": "code",
   "execution_count": 2,
   "metadata": {},
   "outputs": [],
   "source": [
    "random_seed = 42  # фиксируем RANDOM_SEED для воспроизводимости результатов\n",
    "val_size = 0.20\n",
    "\n",
    "test = pd.read_csv('test.csv')\n",
    "data = pd.read_csv('cars.csv')"
   ]
  },
  {
   "cell_type": "code",
   "execution_count": 3,
   "metadata": {},
   "outputs": [
    {
     "data": {
      "text/html": [
       "<div>\n",
       "<style scoped>\n",
       "    .dataframe tbody tr th:only-of-type {\n",
       "        vertical-align: middle;\n",
       "    }\n",
       "\n",
       "    .dataframe tbody tr th {\n",
       "        vertical-align: top;\n",
       "    }\n",
       "\n",
       "    .dataframe thead th {\n",
       "        text-align: right;\n",
       "    }\n",
       "</style>\n",
       "<table border=\"1\" class=\"dataframe\">\n",
       "  <thead>\n",
       "    <tr style=\"text-align: right;\">\n",
       "      <th></th>\n",
       "      <th>bodyType</th>\n",
       "      <th>brand</th>\n",
       "      <th>car_url</th>\n",
       "      <th>color</th>\n",
       "      <th>complectation_dict</th>\n",
       "      <th>description</th>\n",
       "      <th>engineDisplacement</th>\n",
       "      <th>enginePower</th>\n",
       "      <th>equipment_dict</th>\n",
       "      <th>fuelType</th>\n",
       "      <th>...</th>\n",
       "      <th>vehicleConfiguration</th>\n",
       "      <th>vehicleTransmission</th>\n",
       "      <th>vendor</th>\n",
       "      <th>Владельцы</th>\n",
       "      <th>Владение</th>\n",
       "      <th>ПТС</th>\n",
       "      <th>Привод</th>\n",
       "      <th>Руль</th>\n",
       "      <th>Состояние</th>\n",
       "      <th>Таможня</th>\n",
       "    </tr>\n",
       "  </thead>\n",
       "  <tbody>\n",
       "    <tr>\n",
       "      <th>0</th>\n",
       "      <td>лифтбек</td>\n",
       "      <td>SKODA</td>\n",
       "      <td>https://auto.ru/cars/used/sale/skoda/octavia/1...</td>\n",
       "      <td>синий</td>\n",
       "      <td>NaN</td>\n",
       "      <td>Все автомобили, представленные в продаже, прох...</td>\n",
       "      <td>1.2 LTR</td>\n",
       "      <td>105 N12</td>\n",
       "      <td>{\"engine-proof\":true,\"tinted-glass\":true,\"airb...</td>\n",
       "      <td>бензин</td>\n",
       "      <td>...</td>\n",
       "      <td>LIFTBACK ROBOT 1.2</td>\n",
       "      <td>роботизированная</td>\n",
       "      <td>EUROPEAN</td>\n",
       "      <td>3 или более</td>\n",
       "      <td>NaN</td>\n",
       "      <td>Оригинал</td>\n",
       "      <td>передний</td>\n",
       "      <td>Левый</td>\n",
       "      <td>Не требует ремонта</td>\n",
       "      <td>Растаможен</td>\n",
       "    </tr>\n",
       "    <tr>\n",
       "      <th>1</th>\n",
       "      <td>лифтбек</td>\n",
       "      <td>SKODA</td>\n",
       "      <td>https://auto.ru/cars/used/sale/skoda/octavia/1...</td>\n",
       "      <td>чёрный</td>\n",
       "      <td>NaN</td>\n",
       "      <td>ЛОТ: 01217195\\nАвтопрага Север\\nДанный автомоб...</td>\n",
       "      <td>1.6 LTR</td>\n",
       "      <td>110 N12</td>\n",
       "      <td>{\"cruise-control\":true,\"asr\":true,\"esp\":true,\"...</td>\n",
       "      <td>бензин</td>\n",
       "      <td>...</td>\n",
       "      <td>LIFTBACK MECHANICAL 1.6</td>\n",
       "      <td>механическая</td>\n",
       "      <td>EUROPEAN</td>\n",
       "      <td>1 владелец</td>\n",
       "      <td>NaN</td>\n",
       "      <td>Оригинал</td>\n",
       "      <td>передний</td>\n",
       "      <td>Левый</td>\n",
       "      <td>Не требует ремонта</td>\n",
       "      <td>Растаможен</td>\n",
       "    </tr>\n",
       "    <tr>\n",
       "      <th>2</th>\n",
       "      <td>лифтбек</td>\n",
       "      <td>SKODA</td>\n",
       "      <td>https://auto.ru/cars/used/sale/skoda/superb/11...</td>\n",
       "      <td>серый</td>\n",
       "      <td>{\"id\":\"20026336\",\"name\":\"Ambition\",\"available_...</td>\n",
       "      <td>Все автомобили, представленные в продаже, прох...</td>\n",
       "      <td>1.8 LTR</td>\n",
       "      <td>152 N12</td>\n",
       "      <td>{\"cruise-control\":true,\"tinted-glass\":true,\"es...</td>\n",
       "      <td>бензин</td>\n",
       "      <td>...</td>\n",
       "      <td>LIFTBACK ROBOT 1.8</td>\n",
       "      <td>роботизированная</td>\n",
       "      <td>EUROPEAN</td>\n",
       "      <td>1 владелец</td>\n",
       "      <td>NaN</td>\n",
       "      <td>Оригинал</td>\n",
       "      <td>передний</td>\n",
       "      <td>Левый</td>\n",
       "      <td>Не требует ремонта</td>\n",
       "      <td>Растаможен</td>\n",
       "    </tr>\n",
       "    <tr>\n",
       "      <th>3</th>\n",
       "      <td>лифтбек</td>\n",
       "      <td>SKODA</td>\n",
       "      <td>https://auto.ru/cars/used/sale/skoda/octavia/1...</td>\n",
       "      <td>коричневый</td>\n",
       "      <td>{\"id\":\"20803582\",\"name\":\"Ambition\",\"available_...</td>\n",
       "      <td>КОМПЛЕКТ ЗИМНЕЙ (ЛЕТНЕЙ) РЕЗИНЫ ПО СЕЗОНУ В ПО...</td>\n",
       "      <td>1.6 LTR</td>\n",
       "      <td>110 N12</td>\n",
       "      <td>{\"cruise-control\":true,\"roller-blind-for-rear-...</td>\n",
       "      <td>бензин</td>\n",
       "      <td>...</td>\n",
       "      <td>LIFTBACK AUTOMATIC 1.6</td>\n",
       "      <td>автоматическая</td>\n",
       "      <td>EUROPEAN</td>\n",
       "      <td>1 владелец</td>\n",
       "      <td>NaN</td>\n",
       "      <td>Оригинал</td>\n",
       "      <td>передний</td>\n",
       "      <td>Левый</td>\n",
       "      <td>Не требует ремонта</td>\n",
       "      <td>Растаможен</td>\n",
       "    </tr>\n",
       "    <tr>\n",
       "      <th>4</th>\n",
       "      <td>лифтбек</td>\n",
       "      <td>SKODA</td>\n",
       "      <td>https://auto.ru/cars/used/sale/skoda/octavia/1...</td>\n",
       "      <td>белый</td>\n",
       "      <td>NaN</td>\n",
       "      <td>ЛОТ: 01220889\\nАвтопрага Север\\n\\nВы можете по...</td>\n",
       "      <td>1.8 LTR</td>\n",
       "      <td>152 N12</td>\n",
       "      <td>{\"cruise-control\":true,\"asr\":true,\"esp\":true,\"...</td>\n",
       "      <td>бензин</td>\n",
       "      <td>...</td>\n",
       "      <td>LIFTBACK AUTOMATIC 1.8</td>\n",
       "      <td>автоматическая</td>\n",
       "      <td>EUROPEAN</td>\n",
       "      <td>1 владелец</td>\n",
       "      <td>NaN</td>\n",
       "      <td>Оригинал</td>\n",
       "      <td>передний</td>\n",
       "      <td>Левый</td>\n",
       "      <td>Не требует ремонта</td>\n",
       "      <td>Растаможен</td>\n",
       "    </tr>\n",
       "  </tbody>\n",
       "</table>\n",
       "<p>5 rows × 32 columns</p>\n",
       "</div>"
      ],
      "text/plain": [
       "  bodyType  brand                                            car_url  \\\n",
       "0  лифтбек  SKODA  https://auto.ru/cars/used/sale/skoda/octavia/1...   \n",
       "1  лифтбек  SKODA  https://auto.ru/cars/used/sale/skoda/octavia/1...   \n",
       "2  лифтбек  SKODA  https://auto.ru/cars/used/sale/skoda/superb/11...   \n",
       "3  лифтбек  SKODA  https://auto.ru/cars/used/sale/skoda/octavia/1...   \n",
       "4  лифтбек  SKODA  https://auto.ru/cars/used/sale/skoda/octavia/1...   \n",
       "\n",
       "        color                                 complectation_dict  \\\n",
       "0       синий                                                NaN   \n",
       "1      чёрный                                                NaN   \n",
       "2       серый  {\"id\":\"20026336\",\"name\":\"Ambition\",\"available_...   \n",
       "3  коричневый  {\"id\":\"20803582\",\"name\":\"Ambition\",\"available_...   \n",
       "4       белый                                                NaN   \n",
       "\n",
       "                                         description engineDisplacement  \\\n",
       "0  Все автомобили, представленные в продаже, прох...            1.2 LTR   \n",
       "1  ЛОТ: 01217195\\nАвтопрага Север\\nДанный автомоб...            1.6 LTR   \n",
       "2  Все автомобили, представленные в продаже, прох...            1.8 LTR   \n",
       "3  КОМПЛЕКТ ЗИМНЕЙ (ЛЕТНЕЙ) РЕЗИНЫ ПО СЕЗОНУ В ПО...            1.6 LTR   \n",
       "4  ЛОТ: 01220889\\nАвтопрага Север\\n\\nВы можете по...            1.8 LTR   \n",
       "\n",
       "  enginePower                                     equipment_dict fuelType  \\\n",
       "0     105 N12  {\"engine-proof\":true,\"tinted-glass\":true,\"airb...   бензин   \n",
       "1     110 N12  {\"cruise-control\":true,\"asr\":true,\"esp\":true,\"...   бензин   \n",
       "2     152 N12  {\"cruise-control\":true,\"tinted-glass\":true,\"es...   бензин   \n",
       "3     110 N12  {\"cruise-control\":true,\"roller-blind-for-rear-...   бензин   \n",
       "4     152 N12  {\"cruise-control\":true,\"asr\":true,\"esp\":true,\"...   бензин   \n",
       "\n",
       "   ...     vehicleConfiguration  vehicleTransmission    vendor    Владельцы  \\\n",
       "0  ...       LIFTBACK ROBOT 1.2     роботизированная  EUROPEAN  3 или более   \n",
       "1  ...  LIFTBACK MECHANICAL 1.6         механическая  EUROPEAN   1 владелец   \n",
       "2  ...       LIFTBACK ROBOT 1.8     роботизированная  EUROPEAN   1 владелец   \n",
       "3  ...   LIFTBACK AUTOMATIC 1.6       автоматическая  EUROPEAN   1 владелец   \n",
       "4  ...   LIFTBACK AUTOMATIC 1.8       автоматическая  EUROPEAN   1 владелец   \n",
       "\n",
       "  Владение       ПТС    Привод   Руль           Состояние     Таможня  \n",
       "0      NaN  Оригинал  передний  Левый  Не требует ремонта  Растаможен  \n",
       "1      NaN  Оригинал  передний  Левый  Не требует ремонта  Растаможен  \n",
       "2      NaN  Оригинал  передний  Левый  Не требует ремонта  Растаможен  \n",
       "3      NaN  Оригинал  передний  Левый  Не требует ремонта  Растаможен  \n",
       "4      NaN  Оригинал  передний  Левый  Не требует ремонта  Растаможен  \n",
       "\n",
       "[5 rows x 32 columns]"
      ]
     },
     "execution_count": 3,
     "metadata": {},
     "output_type": "execute_result"
    }
   ],
   "source": [
    "test.head()"
   ]
  },
  {
   "cell_type": "code",
   "execution_count": 4,
   "metadata": {},
   "outputs": [
    {
     "data": {
      "text/html": [
       "<div>\n",
       "<style scoped>\n",
       "    .dataframe tbody tr th:only-of-type {\n",
       "        vertical-align: middle;\n",
       "    }\n",
       "\n",
       "    .dataframe tbody tr th {\n",
       "        vertical-align: top;\n",
       "    }\n",
       "\n",
       "    .dataframe thead th {\n",
       "        text-align: right;\n",
       "    }\n",
       "</style>\n",
       "<table border=\"1\" class=\"dataframe\">\n",
       "  <thead>\n",
       "    <tr style=\"text-align: right;\">\n",
       "      <th></th>\n",
       "      <th>body_type</th>\n",
       "      <th>brand</th>\n",
       "      <th>color</th>\n",
       "      <th>complectation_dict</th>\n",
       "      <th>condition</th>\n",
       "      <th>customs</th>\n",
       "      <th>description</th>\n",
       "      <th>engine_displacement</th>\n",
       "      <th>engine_power</th>\n",
       "      <th>equipment_dict</th>\n",
       "      <th>...</th>\n",
       "      <th>price</th>\n",
       "      <th>production_date</th>\n",
       "      <th>super_gen</th>\n",
       "      <th>tenure</th>\n",
       "      <th>vehicle_passport</th>\n",
       "      <th>vehicle_transmission</th>\n",
       "      <th>vendor</th>\n",
       "      <th>wheel</th>\n",
       "      <th>wheel_drive</th>\n",
       "      <th>fuel_type</th>\n",
       "    </tr>\n",
       "  </thead>\n",
       "  <tbody>\n",
       "    <tr>\n",
       "      <th>0</th>\n",
       "      <td>LIFTBACK</td>\n",
       "      <td>SKODA</td>\n",
       "      <td>коричневый</td>\n",
       "      <td>{\"id\":\"0\",\"name\":\"\"}</td>\n",
       "      <td>Не требует ремонта</td>\n",
       "      <td>Растаможен</td>\n",
       "      <td>Не тратьте время на поиски. Уже сегодня Вы смо...</td>\n",
       "      <td>1.5 LTR</td>\n",
       "      <td>150 N12</td>\n",
       "      <td>{\"cruise-control\":true,\"tinted-glass\":true,\"es...</td>\n",
       "      <td>...</td>\n",
       "      <td>1600000.0</td>\n",
       "      <td>2017.0</td>\n",
       "      <td>{\"id\":\"20898195\",\"name\":\"III (A7) Рестайлинг\",...</td>\n",
       "      <td>NaN</td>\n",
       "      <td>ORIGINAL</td>\n",
       "      <td>ROBOT</td>\n",
       "      <td>EUROPEAN</td>\n",
       "      <td>LEFT</td>\n",
       "      <td>передний</td>\n",
       "      <td>GASOLINE</td>\n",
       "    </tr>\n",
       "    <tr>\n",
       "      <th>1</th>\n",
       "      <td>LIFTBACK</td>\n",
       "      <td>SKODA</td>\n",
       "      <td>белый</td>\n",
       "      <td>{\"id\":\"0\",\"name\":\"\"}</td>\n",
       "      <td>Не требует ремонта</td>\n",
       "      <td>Растаможен</td>\n",
       "      <td>Не такси! Пoкупка и эксплуатация с января 2017...</td>\n",
       "      <td>1.2 LTR</td>\n",
       "      <td>110 N12</td>\n",
       "      <td>{}</td>\n",
       "      <td>...</td>\n",
       "      <td>830000.0</td>\n",
       "      <td>2016.0</td>\n",
       "      <td>{\"id\":\"9275797\",\"name\":\"I\",\"ru_name\":\"1\",\"year...</td>\n",
       "      <td>4 года и 10 месяцев</td>\n",
       "      <td>ORIGINAL</td>\n",
       "      <td>MECHANICAL</td>\n",
       "      <td>EUROPEAN</td>\n",
       "      <td>LEFT</td>\n",
       "      <td>передний</td>\n",
       "      <td>GASOLINE</td>\n",
       "    </tr>\n",
       "    <tr>\n",
       "      <th>2</th>\n",
       "      <td>COMPACTVAN</td>\n",
       "      <td>SKODA</td>\n",
       "      <td>чёрный</td>\n",
       "      <td>{\"id\":\"7815321\",\"name\":\"Ambition\",\"available_o...</td>\n",
       "      <td>Не требует ремонта</td>\n",
       "      <td>Растаможен</td>\n",
       "      <td>-  Автомобиль в отличном состоянии.\\n-  За все...</td>\n",
       "      <td>1.6 LTR</td>\n",
       "      <td>90 N12</td>\n",
       "      <td>{\"alloy-wheel-disks\":true,\"tinted-glass\":true,...</td>\n",
       "      <td>...</td>\n",
       "      <td>730000.0</td>\n",
       "      <td>2012.0</td>\n",
       "      <td>{\"id\":\"6412280\",\"name\":\"I Рестайлинг\",\"ru_name...</td>\n",
       "      <td>NaN</td>\n",
       "      <td>ORIGINAL</td>\n",
       "      <td>MECHANICAL</td>\n",
       "      <td>EUROPEAN</td>\n",
       "      <td>LEFT</td>\n",
       "      <td>передний</td>\n",
       "      <td>DIESEL</td>\n",
       "    </tr>\n",
       "    <tr>\n",
       "      <th>3</th>\n",
       "      <td>LIFTBACK</td>\n",
       "      <td>SKODA</td>\n",
       "      <td>зелёный</td>\n",
       "      <td>{\"id\":\"0\",\"name\":\"\"}</td>\n",
       "      <td>Не требует ремонта</td>\n",
       "      <td>Растаможен</td>\n",
       "      <td>Для своих лет,бодрая,торг у капота!снята с учё...</td>\n",
       "      <td>2.0 LTR</td>\n",
       "      <td>115 N12</td>\n",
       "      <td>{}</td>\n",
       "      <td>...</td>\n",
       "      <td>180000.0</td>\n",
       "      <td>1998.0</td>\n",
       "      <td>{\"id\":\"5140407\",\"name\":\"I (A4)\",\"ru_name\":\"1 (...</td>\n",
       "      <td>NaN</td>\n",
       "      <td>DUPLICATE</td>\n",
       "      <td>AUTOMATIC</td>\n",
       "      <td>EUROPEAN</td>\n",
       "      <td>LEFT</td>\n",
       "      <td>передний</td>\n",
       "      <td>GASOLINE</td>\n",
       "    </tr>\n",
       "    <tr>\n",
       "      <th>4</th>\n",
       "      <td>ALLROAD_5_DOORS</td>\n",
       "      <td>SKODA</td>\n",
       "      <td>коричневый</td>\n",
       "      <td>{\"id\":\"6038962\",\"name\":\"Active\",\"available_opt...</td>\n",
       "      <td>Не требует ремонта</td>\n",
       "      <td>Растаможен</td>\n",
       "      <td>Двигатель, турбина, коробка, подвеска без наре...</td>\n",
       "      <td>2.0 LTR</td>\n",
       "      <td>140 N12</td>\n",
       "      <td>{\"cruise-control\":true,\"esp\":true,\"airbag-driv...</td>\n",
       "      <td>...</td>\n",
       "      <td>460000.0</td>\n",
       "      <td>2010.0</td>\n",
       "      <td>{\"id\":\"6038909\",\"name\":\"I\",\"ru_name\":\"1\",\"year...</td>\n",
       "      <td>NaN</td>\n",
       "      <td>DUPLICATE</td>\n",
       "      <td>ROBOT</td>\n",
       "      <td>EUROPEAN</td>\n",
       "      <td>LEFT</td>\n",
       "      <td>полный</td>\n",
       "      <td>DIESEL</td>\n",
       "    </tr>\n",
       "  </tbody>\n",
       "</table>\n",
       "<p>5 rows × 25 columns</p>\n",
       "</div>"
      ],
      "text/plain": [
       "         body_type  brand       color  \\\n",
       "0         LIFTBACK  SKODA  коричневый   \n",
       "1         LIFTBACK  SKODA       белый   \n",
       "2       COMPACTVAN  SKODA      чёрный   \n",
       "3         LIFTBACK  SKODA     зелёный   \n",
       "4  ALLROAD_5_DOORS  SKODA  коричневый   \n",
       "\n",
       "                                  complectation_dict           condition  \\\n",
       "0                               {\"id\":\"0\",\"name\":\"\"}  Не требует ремонта   \n",
       "1                               {\"id\":\"0\",\"name\":\"\"}  Не требует ремонта   \n",
       "2  {\"id\":\"7815321\",\"name\":\"Ambition\",\"available_o...  Не требует ремонта   \n",
       "3                               {\"id\":\"0\",\"name\":\"\"}  Не требует ремонта   \n",
       "4  {\"id\":\"6038962\",\"name\":\"Active\",\"available_opt...  Не требует ремонта   \n",
       "\n",
       "      customs                                        description  \\\n",
       "0  Растаможен  Не тратьте время на поиски. Уже сегодня Вы смо...   \n",
       "1  Растаможен  Не такси! Пoкупка и эксплуатация с января 2017...   \n",
       "2  Растаможен  -  Автомобиль в отличном состоянии.\\n-  За все...   \n",
       "3  Растаможен  Для своих лет,бодрая,торг у капота!снята с учё...   \n",
       "4  Растаможен  Двигатель, турбина, коробка, подвеска без наре...   \n",
       "\n",
       "  engine_displacement engine_power  \\\n",
       "0             1.5 LTR      150 N12   \n",
       "1             1.2 LTR      110 N12   \n",
       "2             1.6 LTR       90 N12   \n",
       "3             2.0 LTR      115 N12   \n",
       "4             2.0 LTR      140 N12   \n",
       "\n",
       "                                      equipment_dict  ...      price  \\\n",
       "0  {\"cruise-control\":true,\"tinted-glass\":true,\"es...  ...  1600000.0   \n",
       "1                                                 {}  ...   830000.0   \n",
       "2  {\"alloy-wheel-disks\":true,\"tinted-glass\":true,...  ...   730000.0   \n",
       "3                                                 {}  ...   180000.0   \n",
       "4  {\"cruise-control\":true,\"esp\":true,\"airbag-driv...  ...   460000.0   \n",
       "\n",
       "  production_date                                          super_gen  \\\n",
       "0          2017.0  {\"id\":\"20898195\",\"name\":\"III (A7) Рестайлинг\",...   \n",
       "1          2016.0  {\"id\":\"9275797\",\"name\":\"I\",\"ru_name\":\"1\",\"year...   \n",
       "2          2012.0  {\"id\":\"6412280\",\"name\":\"I Рестайлинг\",\"ru_name...   \n",
       "3          1998.0  {\"id\":\"5140407\",\"name\":\"I (A4)\",\"ru_name\":\"1 (...   \n",
       "4          2010.0  {\"id\":\"6038909\",\"name\":\"I\",\"ru_name\":\"1\",\"year...   \n",
       "\n",
       "                tenure  vehicle_passport  vehicle_transmission    vendor  \\\n",
       "0                  NaN          ORIGINAL                 ROBOT  EUROPEAN   \n",
       "1  4 года и 10 месяцев          ORIGINAL            MECHANICAL  EUROPEAN   \n",
       "2                  NaN          ORIGINAL            MECHANICAL  EUROPEAN   \n",
       "3                  NaN         DUPLICATE             AUTOMATIC  EUROPEAN   \n",
       "4                  NaN         DUPLICATE                 ROBOT  EUROPEAN   \n",
       "\n",
       "  wheel wheel_drive fuel_type  \n",
       "0  LEFT    передний  GASOLINE  \n",
       "1  LEFT    передний  GASOLINE  \n",
       "2  LEFT    передний    DIESEL  \n",
       "3  LEFT    передний  GASOLINE  \n",
       "4  LEFT      полный    DIESEL  \n",
       "\n",
       "[5 rows x 25 columns]"
      ]
     },
     "execution_count": 4,
     "metadata": {},
     "output_type": "execute_result"
    }
   ],
   "source": [
    "data.head()"
   ]
  },
  {
   "cell_type": "code",
   "execution_count": 5,
   "metadata": {},
   "outputs": [
    {
     "data": {
      "text/plain": [
       "Index(['bodyType', 'brand', 'car_url', 'color', 'complectation_dict',\n",
       "       'description', 'engineDisplacement', 'enginePower', 'equipment_dict',\n",
       "       'fuelType', 'image', 'mileage', 'modelDate', 'model_info', 'model_name',\n",
       "       'name', 'numberOfDoors', 'parsing_unixtime', 'priceCurrency',\n",
       "       'productionDate', 'sell_id', 'super_gen', 'vehicleConfiguration',\n",
       "       'vehicleTransmission', 'vendor', 'Владельцы', 'Владение', 'ПТС',\n",
       "       'Привод', 'Руль', 'Состояние', 'Таможня'],\n",
       "      dtype='object')"
      ]
     },
     "execution_count": 5,
     "metadata": {},
     "output_type": "execute_result"
    }
   ],
   "source": [
    "test.columns"
   ]
  },
  {
   "cell_type": "code",
   "execution_count": 6,
   "metadata": {},
   "outputs": [],
   "source": [
    "#приводим столбцы к одинаковому формату\n",
    "columns = ['body_type', 'brand', 'car_url', 'color', 'complectation_dict',\n",
    "       'description', 'engine_displacement', 'engine_power', 'equipment_dict',\n",
    "       'fuel_type', 'image', 'mileage', 'model_date', 'model_info', 'model_name',\n",
    "       'name', 'number_of_doors', 'parsing_unixtime', 'price_currency',\n",
    "       'production_date', 'sell_id', 'super_gen', 'vehicle_configuration',\n",
    "       'vehicle_transmission', 'vendor', 'owners', 'tenure', 'vehicle_passport',\n",
    "       'wheel_drive', 'wheel', 'condition', 'customs']"
   ]
  },
  {
   "cell_type": "code",
   "execution_count": 7,
   "metadata": {},
   "outputs": [],
   "source": [
    "#присваиваем новые названия\n",
    "test.columns = columns"
   ]
  },
  {
   "cell_type": "code",
   "execution_count": 8,
   "metadata": {},
   "outputs": [
    {
     "name": "stdout",
     "output_type": "stream",
     "text": [
      "<class 'pandas.core.frame.DataFrame'>\n",
      "RangeIndex: 34686 entries, 0 to 34685\n",
      "Data columns (total 32 columns):\n",
      " #   Column                 Non-Null Count  Dtype \n",
      "---  ------                 --------------  ----- \n",
      " 0   body_type              34686 non-null  object\n",
      " 1   brand                  34686 non-null  object\n",
      " 2   car_url                34686 non-null  object\n",
      " 3   color                  34686 non-null  object\n",
      " 4   complectation_dict     6418 non-null   object\n",
      " 5   description            34686 non-null  object\n",
      " 6   engine_displacement    34686 non-null  object\n",
      " 7   engine_power           34686 non-null  object\n",
      " 8   equipment_dict         24690 non-null  object\n",
      " 9   fuel_type              34686 non-null  object\n",
      " 10  image                  34686 non-null  object\n",
      " 11  mileage                34686 non-null  int64 \n",
      " 12  model_date             34686 non-null  int64 \n",
      " 13  model_info             34686 non-null  object\n",
      " 14  model_name             34686 non-null  object\n",
      " 15  name                   34686 non-null  object\n",
      " 16  number_of_doors        34686 non-null  int64 \n",
      " 17  parsing_unixtime       34686 non-null  int64 \n",
      " 18  price_currency         34686 non-null  object\n",
      " 19  production_date        34686 non-null  int64 \n",
      " 20  sell_id                34686 non-null  int64 \n",
      " 21  super_gen              34686 non-null  object\n",
      " 22  vehicle_configuration  34686 non-null  object\n",
      " 23  vehicle_transmission   34686 non-null  object\n",
      " 24  vendor                 34686 non-null  object\n",
      " 25  owners                 34686 non-null  object\n",
      " 26  tenure                 11995 non-null  object\n",
      " 27  vehicle_passport       34685 non-null  object\n",
      " 28  wheel_drive            34686 non-null  object\n",
      " 29  wheel                  34686 non-null  object\n",
      " 30  condition              34686 non-null  object\n",
      " 31  customs                34686 non-null  object\n",
      "dtypes: int64(6), object(26)\n",
      "memory usage: 8.5+ MB\n"
     ]
    }
   ],
   "source": [
    "test.info()"
   ]
  },
  {
   "cell_type": "markdown",
   "metadata": {},
   "source": [
    "Значения в одинаковых столбцах двух датафреймов на разных языках. В test переведем значения на английский"
   ]
  },
  {
   "cell_type": "code",
   "execution_count": 9,
   "metadata": {},
   "outputs": [],
   "source": [
    "body_type_dic = {'седан': 'SEDAN',\n",
    " 'внедорожник 5 дв.': 'ALLROAD_5_DOORS',\n",
    " 'лифтбек': 'LIFTBACK',\n",
    " 'хэтчбек 5 дв.': 'HATCHBACK_5_DOORS',\n",
    " 'универсал 5 дв.': 'WAGON_5_DOORS',\n",
    " 'минивэн': 'MINIVAN',\n",
    " 'купе': 'COUPE',\n",
    " 'компактвэн': 'COMPACTVAN',\n",
    " 'хэтчбек 3 дв.': 'HATCHBACK_3_DOORS',\n",
    " 'пикап двойная кабина': 'PICKUP_TWO',\n",
    " 'купе-хардтоп': 'COUPE_HARDTOP',\n",
    " 'внедорожник 3 дв.': 'ALLROAD_3_DOORS',\n",
    " 'родстер': 'ROADSTER',\n",
    " 'фургон': 'VAN',\n",
    " 'кабриолет': 'CABRIO',\n",
    " 'седан-хардтоп': 'SEDAN_HARDTOP',\n",
    " 'микровэн': 'MICROVAN',\n",
    " 'лимузин': 'LIMOUSINE',\n",
    " 'седан 2 дв.': 'SEDAN_2_DOORS',\n",
    " 'пикап полуторная кабина': 'PICKUP_FULL',\n",
    " 'пикап одинарная кабина': 'PICKUP_MEAN',\n",
    " 'внедорожник открытый': 'ALLROAD_OPEN',\n",
    " 'тарга': 'TARGA',\n",
    " 'фастбек': 'FUSTBACK'}"
   ]
  },
  {
   "cell_type": "code",
   "execution_count": 10,
   "metadata": {},
   "outputs": [],
   "source": [
    "test['body_type'] = test['body_type'].map(body_type_dic)"
   ]
  },
  {
   "cell_type": "code",
   "execution_count": 11,
   "metadata": {},
   "outputs": [],
   "source": [
    "test['vehicle_passport'] = test['vehicle_passport'].map({'Оригинал':'ORIGINAL', 'Дубликат':'DUPLICATE'})"
   ]
  },
  {
   "cell_type": "code",
   "execution_count": 12,
   "metadata": {},
   "outputs": [],
   "source": [
    "test['vehicle_transmission'] = test['vehicle_transmission'].map({'автоматическая':'AUTOMATIC', 'механическая':'MECHANICAL', \n",
    "                                                                 'вариатор':'VARIATOR', 'роботизированная':'ROBOT'})"
   ]
  },
  {
   "cell_type": "code",
   "execution_count": 13,
   "metadata": {},
   "outputs": [],
   "source": [
    "test['wheel'] = test['wheel'].map({'Левый':'LEFT', 'Правый':'RIGHT'})"
   ]
  },
  {
   "cell_type": "code",
   "execution_count": 14,
   "metadata": {},
   "outputs": [],
   "source": [
    "test['fuel_type'] = test['fuel_type'].map({'бензин':'GASOLINE', 'дизель':'DIESEL', \n",
    "                                            'гибрид':'HYBRID', 'электро':'ELECTRO', 'газ':'LPG'})"
   ]
  },
  {
   "cell_type": "markdown",
   "metadata": {},
   "source": [
    "Посмотрим сколько значений в столбце 'price' равны нулю"
   ]
  },
  {
   "cell_type": "code",
   "execution_count": 15,
   "metadata": {},
   "outputs": [
    {
     "data": {
      "text/plain": [
       "0.0    4515\n",
       "Name: price, dtype: int64"
      ]
     },
     "execution_count": 15,
     "metadata": {},
     "output_type": "execute_result"
    }
   ],
   "source": [
    "data[data['price']==0]['price'].value_counts()"
   ]
  },
  {
   "cell_type": "markdown",
   "metadata": {},
   "source": [
    "Строки с нулевой ценой не имеют ценности для модели. Не включаем их в датафрейм"
   ]
  },
  {
   "cell_type": "code",
   "execution_count": 16,
   "metadata": {},
   "outputs": [],
   "source": [
    "data = data[data['price']>0]"
   ]
  },
  {
   "cell_type": "code",
   "execution_count": 17,
   "metadata": {},
   "outputs": [],
   "source": [
    "# в тесте нет столбца 'price' добавляем его\n",
    "test['price'] = 0"
   ]
  },
  {
   "cell_type": "code",
   "execution_count": 18,
   "metadata": {},
   "outputs": [],
   "source": [
    "test = test[data.columns]"
   ]
  },
  {
   "cell_type": "code",
   "execution_count": 19,
   "metadata": {},
   "outputs": [],
   "source": [
    "#объединяем датафреймы\n",
    "data['sample'] = 1\n",
    "test['sample'] = 0\n",
    "df = data.append(test, sort=False).reset_index(drop=True)"
   ]
  },
  {
   "cell_type": "code",
   "execution_count": 20,
   "metadata": {},
   "outputs": [
    {
     "name": "stdout",
     "output_type": "stream",
     "text": [
      "<class 'pandas.core.frame.DataFrame'>\n",
      "RangeIndex: 75239 entries, 0 to 75238\n",
      "Data columns (total 26 columns):\n",
      " #   Column                Non-Null Count  Dtype  \n",
      "---  ------                --------------  -----  \n",
      " 0   body_type             75239 non-null  object \n",
      " 1   brand                 75239 non-null  object \n",
      " 2   color                 75239 non-null  object \n",
      " 3   complectation_dict    46971 non-null  object \n",
      " 4   condition             65721 non-null  object \n",
      " 5   customs               65669 non-null  object \n",
      " 6   description           75239 non-null  object \n",
      " 7   engine_displacement   75239 non-null  object \n",
      " 8   engine_power          75239 non-null  object \n",
      " 9   equipment_dict        65243 non-null  object \n",
      " 10  mileage               75239 non-null  float64\n",
      " 11  model_info            75239 non-null  object \n",
      " 12  model_name            75239 non-null  object \n",
      " 13  number_of_doors       75239 non-null  float64\n",
      " 14  owners                75239 non-null  object \n",
      " 15  price                 75239 non-null  float64\n",
      " 16  production_date       75239 non-null  float64\n",
      " 17  super_gen             75239 non-null  object \n",
      " 18  tenure                20130 non-null  object \n",
      " 19  vehicle_passport      74066 non-null  object \n",
      " 20  vehicle_transmission  75239 non-null  object \n",
      " 21  vendor                75034 non-null  object \n",
      " 22  wheel                 75239 non-null  object \n",
      " 23  wheel_drive           65721 non-null  object \n",
      " 24  fuel_type             75239 non-null  object \n",
      " 25  sample                75239 non-null  int64  \n",
      "dtypes: float64(4), int64(1), object(21)\n",
      "memory usage: 14.9+ MB\n"
     ]
    }
   ],
   "source": [
    "df.info()"
   ]
  },
  {
   "cell_type": "markdown",
   "metadata": {},
   "source": [
    "В некоторых столбцах много пропусков. Нужно их заполнить"
   ]
  },
  {
   "cell_type": "code",
   "execution_count": 21,
   "metadata": {},
   "outputs": [
    {
     "data": {
      "text/plain": [
       "{\"id\":\"0\",\"name\":\"\"}                                                                                                                                                                                                                                                                                                                                                                                                                                                                                                                                                                                                                                                                                                                                                                                                                                                                                                                                                                                                                                                                                                                                                                                                                                                                                                                                                                                                                                                                                                                                                                                                                                                                                                                                                                                                                                                                                                                                                                                                                                                                                                                                                                                                                                                                                                                                                                                                                                                                                                                                                                                                                                                                                                                                                                                                                                                                                                                                                                                                                                                                                                                                                                                                                                                                                                                                                                                                                                                                                                                                                                                                                                                                                                                                                                                                                                                                                                                                                                                                                                                                                                                                                                                                                                                                                                                                                                                                                                                                                                                                                                                                                                                                                                                                                                                                                                                                                                                                                                                                                                                                                                                                                                                                                                                                                                                                                                                                                                                                                                                                                                                                                                                                                                                                                                                                                                                                                                                                                                                                                                                                                                                                                                                                                                                                                                                                                                     24432\n",
       "{\"id\":\"22153111\",\"name\":\"Status\",\"available_options\":[\"cruise-control\",\"multi-wheel\",\"heated-wash-system\",\"airbag-passenger\",\"bas\",\"lock\",\"electro-mirrors\",\"mirrors-heat\",\"glonass\",\"computer\",\"seat-transformation\",\"android-auto\",\"fabric-seats\",\"abs\",\"wheel-leather\",\"climate-control-1\",\"asr\",\"esp\",\"usb\",\"audiopreparation\",\"spare-wheel\",\"audiosystem-tv\",\"apple-carplay\",\"servo\",\"drl\",\"electro-window-back\",\"driver-seat-updown\",\"wheel-heat\",\"led-lights\",\"15-inch-wheels\",\"airbag-driver\",\"isofix\",\"electro-window-front\",\"leather-gear-stick\",\"tyre-pressure\",\"audiosystem-cd\",\"front-seats-heat\",\"bluetooth\",\"wheel-configuration2\",\"wheel-configuration1\",\"immo\",\"12v-socket\",\"third-rear-headrest\"]}                                                                                                                                                                                                                                                                                                                                                                                                                                                                                                                                                                                                                                                                                                                                                                                                                                                                                                                                                                                                                                                                                                                                                                                                                                                                                                                                                                                                                                                                                                                                                                                                                                                                                                                                                                                                                                                                                                                                                                                                                                                                                                                                                                                                                                                                                                                                                                                                                                                                                                                                                                                                                                                                                                                                                                                                                                                                                                                                                                                                                                                                                                                                                                                                                                                                                                                                                                                                                                                                                                                                                                                                                                                                                                                                                                                                                                                                                                                                                                                                                                                                                                                                                                                                                                                                                                                                                                                                                                                                                                                                                                                                                                                                                                                                                                                                                                                                                                                                                                                                                                                                                                                                                                                                                                                                                                                                                                                                                                                                                                                                                                                                                                                                       595\n",
       "{\"id\":\"22813677\",\"name\":\"Престиж Safety\",\"available_options\":[\"multi-wheel\",\"heated-wash-system\",\"airbag-passenger\",\"navigation\",\"bas\",\"lock\",\"electro-mirrors\",\"driver-seat-support\",\"mirrors-heat\",\"leather\",\"glonass\",\"drowsy-driver-alert-system\",\"automatic-lighting-control\",\"collision-prevention-assist\",\"computer\",\"high-beam-assist\",\"seat-transformation\",\"android-auto\",\"wheel-power\",\"light-cleaner\",\"airbag-side\",\"auto-cruise\",\"abs\",\"wheel-leather\",\"climate-control-2\",\"auto-mirrors\",\"asr\",\"esp\",\"usb\",\"audiosystem-tv\",\"lane-keeping-assist\",\"front-centre-armrest\",\"apple-carplay\",\"rear-camera\",\"drl\",\"electro-window-back\",\"18-inch-wheels\",\"body-mouldings\",\"park-assist-f\",\"rear-seats-heat\",\"driver-seat-updown\",\"wheel-heat\",\"led-lights\",\"music-super\",\"park-assist-r\",\"knee-airbag\",\"wireless-charger\",\"airbag-driver\",\"isofix\",\"electro-window-front\",\"light-sensor\",\"hcc\",\"airbag-curtain\",\"keyless-entry\",\"passenger-seat-electric\",\"alarm\",\"leather-gear-stick\",\"traffic-sign-recognition\",\"start-button\",\"ptf\",\"rain-sensor\",\"tyre-pressure\",\"front-seats-heat\",\"power-child-locks-rear-doors\",\"bluetooth\",\"wheel-configuration2\",\"wheel-configuration1\",\"immo\",\"windscreen-heat\",\"12v-socket\",\"third-rear-headrest\"]}                                                                                                                                                                                                                                                                                                                                                                                                                                                                                                                                                                                                                                                                                                                                                                                                                                                                                                                                                                                                                                                                                                                                                                                                                                                                                                                                                                                                                                                                                                                                                                                                                                                                                                                                                                                                                                                                                                                                                                                                                                                                                                                                                                                                                                                                                                                                                                                                                                                                                                                                                                                                                                                                                                                                                                                                                                                                                                                                                                                                                                                                                                                                                                                                                                                                                                                                                                                                                                                                                                                                                                                                                                                                                                                                                                                                                                                                                                                                                                                                                                                                                                                                                                                                                                                                                                                                                                                                                                                                                                                                                                                                                                                                                                                                                                                                                                                                                                                                                                                                                                                                                                                                    495\n",
       "{\"id\":\"22174500\",\"name\":\"Inscription\",\"available_options\":[\"cruise-control\",\"multi-wheel\",\"airbag-passenger\",\"roof-rails\",\"decorative-interior-lighting\",\"bas\",\"lock\",\"door-sill-panel\",\"electro-mirrors\",\"easy-trunk-opening\",\"mirrors-heat\",\"volume-sensor\",\"leather\",\"driver-seat-memory\",\"glonass\",\"start-stop-function\",\"automatic-lighting-control\",\"passenger-seat-updown\",\"collision-prevention-assist\",\"computer\",\"high-beam-assist\",\"seat-transformation\",\"light-cleaner\",\"driver-seat-electric\",\"dha\",\"airbag-side\",\"electronic-gage-panel\",\"electro-trunk\",\"abs\",\"wheel-leather\",\"climate-control-2\",\"auto-mirrors\",\"asr\",\"esp\",\"usb\",\"audiopreparation\",\"audiosystem-tv\",\"lane-keeping-assist\",\"front-centre-armrest\",\"front-seat-support\",\"rear-camera\",\"servo\",\"drl\",\"electro-window-back\",\"reduce-spare-wheel\",\"body-mouldings\",\"park-assist-f\",\"19-inch-wheels\",\"led-lights\",\"music-super\",\"park-assist-r\",\"airbag-driver\",\"isofix\",\"drive-mode-sys\",\"electro-window-front\",\"light-sensor\",\"hcc\",\"airbag-curtain\",\"keyless-entry\",\"alarm\",\"leather-gear-stick\",\"traffic-sign-recognition\",\"start-button\",\"ptf\",\"rain-sensor\",\"tyre-pressure\",\"voice-recognition\",\"front-seats-heat\",\"bluetooth\",\"wheel-configuration2\",\"wheel-configuration1\",\"immo\",\"12v-socket\",\"third-rear-headrest\"]}                                                                                                                                                                                                                                                                                                                                                                                                                                                                                                                                                                                                                                                                                                                                                                                                                                                                                                                                                                                                                                                                                                                                                                                                                                                                                                                                                                                                                                                                                                                                                                                                                                                                                                                                                                                                                                                                                                                                                                                                                                                                                                                                                                                                                                                                                                                                                                                                                                                                                                                                                                                                                                                                                                                                                                                                                                                                                                                                                                                                                                                                                                                                                                                                                                                                                                                                                                                                                                                                                                                                                                                                                                                                                                                                                                                                                                                                                                                                                                                                                                                                                                                                                                                                                                                                                                                                                                                                                                                                                                                                                                                                                                                                                                                                                                                                                                                                                                                                                                                                                                                                                 441\n",
       "{\"id\":\"21935248\",\"name\":\"xDrive25d Business\",\"available_options\":[\"cruise-control\",\"sport-seats\",\"multi-wheel\",\"auto-park\",\"airbag-passenger\",\"navigation\",\"roof-rails\",\"decorative-interior-lighting\",\"bas\",\"lock\",\"door-sill-panel\",\"electro-mirrors\",\"mirrors-heat\",\"leather\",\"driver-seat-memory\",\"glonass\",\"passenger-seat-updown\",\"computer\",\"seat-transformation\",\"airbag-side\",\"electronic-gage-panel\",\"electro-trunk\",\"abs\",\"wheel-leather\",\"climate-control-2\",\"auto-mirrors\",\"asr\",\"esp\",\"usb\",\"audiopreparation\",\"ashtray-and-cigarette-lighter\",\"front-centre-armrest\",\"apple-carplay\",\"servo\",\"drl\",\"electro-window-back\",\"park-assist-f\",\"19-inch-wheels\",\"wheel-heat\",\"led-lights\",\"music-super\",\"park-assist-r\",\"airbag-driver\",\"isofix\",\"aux\",\"electro-window-front\",\"light-sensor\",\"hcc\",\"airbag-curtain\",\"passenger-seat-electric\",\"paint-metallic\",\"leather-gear-stick\",\"ptf\",\"rain-sensor\",\"tyre-pressure\",\"audiosystem-cd\",\"front-seats-heat\",\"power-child-locks-rear-doors\",\"bluetooth\",\"wheel-configuration2\",\"wheel-configuration1\",\"immo\",\"12v-socket\",\"third-rear-headrest\"]}                                                                                                                                                                                                                                                                                                                                                                                                                                                                                                                                                                                                                                                                                                                                                                                                                                                                                                                                                                                                                                                                                                                                                                                                                                                                                                                                                                                                                                                                                                                                                                                                                                                                                                                                                                                                                                                                                                                                                                                                                                                                                                                                                                                                                                                                                                                                                                                                                                                                                                                                                                                                                                                                                                                                                                                                                                                                                                                                                                                                                                                                                                                                                                                                                                                                                                                                                                                                                                                                                                                                                                                                                                                                                                                                                                                                                                                                                                                                                                                                                                                                                                                                                                                                                                                                                                                                                                                                                                                                                                                                                                                                                                                                                                                                                                                                                                                                                                                                                                                                                                                                                                                                                                                                                                                                                  396\n",
       "                                                                                                                                                                                                                                                                                                                                                                                                                                                                                                                                                                                                                                                                                                                                                                                                                                                                                                                                                                                                                                                                                                                                                                                                                                                                                                                                                                                                                                                                                                                                                                                                                                                                                                                                                                                                                                                                                                                                                                                                                                                                                                                                                                                                                                                                                                                                                                                                                                                                                                                                                                                                                                                                                                                                                                                                                                                                                                                                                                                                                                                                                                                                                                                                                                                                                                                                                                                                                                                                                                                                                                                                                                                                                                                                                                                                                                                                                                                                                                                                                                                                                                                                                                                                                                                                                                                                                                                                                                                                                                                                                                                                                                                                                                                                                                                                                                                                                                                                                                                                                                                                                                                                                                                                                                                                                                                                                                                                                                                                                                                                                                                                                                                                                                                                                                                                                                                                                                                                                                                                                                                                                                                                                                                                                                                                                                                                                                                         ...  \n",
       "{\"id\":\"20661009\",\"name\":\"Premium\",\"available_options\":[\"cruise-control\",\"multi-wheel\",\"airbag-passenger\",\"lock\",\"electro-mirrors\",\"mirrors-heat\",\"volume-sensor\",\"leather\",\"seat-memory\",\"front-seats-heat-vent\",\"automatic-lighting-control\",\"computer\",\"light-cleaner\",\"airbag-side\",\"electro-trunk\",\"abs\",\"wheel-leather\",\"climate-control-1\",\"auto-mirrors\",\"esp\",\"usb\",\"audiopreparation\",\"front-centre-armrest\",\"rear-camera\",\"servo\",\"electro-window-back\",\"18-inch-wheels\",\"hatch\",\"body-mouldings\",\"park-assist-f\",\"wheel-heat\",\"condition\",\"led-lights\",\"music-super\",\"park-assist-r\",\"airbag-driver\",\"isofix\",\"aux\",\"electro-window-front\",\"light-sensor\",\"hcc\",\"airbag-curtain\",\"passenger-seat-electric\",\"alarm\",\"paint-metallic\",\"leather-gear-stick\",\"start-button\",\"ptf\",\"rain-sensor\",\"tyre-pressure\",\"audiosystem-cd\",\"front-seats-heat\",\"power-child-locks-rear-doors\",\"bluetooth\",\"wheel-configuration2\",\"wheel-configuration1\",\"immo\",\"12v-socket\",\"third-rear-headrest\"]}                                                                                                                                                                                                                                                                                                                                                                                                                                                                                                                                                                                                                                                                                                                                                                                                                                                                                                                                                                                                                                                                                                                                                                                                                                                                                                                                                                                                                                                                                                                                                                                                                                                                                                                                                                                                                                                                                                                                                                                                                                                                                                                                                                                                                                                                                                                                                                                                                                                                                                                                                                                                                                                                                                                                                                                                                                                                                                                                                                                                                                                                                                                                                                                                                                                                                                                                                                                                                                                                                                                                                                                                                                                                                                                                                                                                                                                                                                                                                                                                                                                                                                                                                                                                                                                                                                                                                                                                                                                                                                                                                                                                                                                                                                                                                                                                                                                                                                                                                                                                                                                                                                                                                                                                                                                                                                                                                                                              1\n",
       "{\"id\":\"20718430\",\"name\":\"Базовая\",\"available_options\":[\"multi-wheel\",\"xenon\",\"airbag-passenger\",\"lock\",\"door-sill-panel\",\"electro-mirrors\",\"mirrors-heat\",\"start-stop-function\",\"automatic-lighting-control\",\"computer\",\"seat-transformation\",\"wheel-power\",\"light-cleaner\",\"fabric-seats\",\"airbag-side\",\"abs\",\"wheel-leather\",\"climate-control-1\",\"esp\",\"audiopreparation\",\"front-centre-armrest\",\"electro-window-back\",\"16-inch-wheels\",\"body-mouldings\",\"condition\",\"park-assist-r\",\"airbag-driver\",\"isofix\",\"aux\",\"electro-window-front\",\"airbag-curtain\",\"leather-gear-stick\",\"ptf\",\"tyre-pressure\",\"audiosystem-cd\",\"front-seats-heat\",\"power-child-locks-rear-doors\",\"wheel-configuration2\",\"wheel-configuration1\",\"immo\",\"12v-socket\",\"third-rear-headrest\"],\"vendor_colors\":[{\"body_color_id\":20618414,\"mark_color_id\":21386969,\"name_ru\":\"Teak Brown\",\"hex_codes\":[\"3E2413\"],\"color_type\":\"METALLIC\",\"stock_color\":{\"hex_code\":\"200204\",\"name_ru\":\"коричневый\"},\"photos\":[{\"name\":\"34-front\",\"sizes\":{\"orig\":\"//avatars.mds.yandex.net/get-verba/937147/2a000001609d6f9b20f67c89b58d365b1cf1/orig\",\"wizardv3mr\":\"//avatars.mds.yandex.net/get-verba/937147/2a000001609d6f9b20f67c89b58d365b1cf1/wizardv3mr\",\"wizardv3\":\"//avatars.mds.yandex.net/get-verba/937147/2a000001609d6f9b20f67c89b58d365b1cf1/wizardv3\",\"cattouch\":\"//avatars.mds.yandex.net/get-verba/937147/2a000001609d6f9b20f67c89b58d365b1cf1/cattouch\",\"small\":\"//avatars.mds.yandex.net/get-verba/937147/2a000001609d6f9b20f67c89b58d365b1cf1/small\",\"320x240\":\"//avatars.mds.yandex.net/get-verba/937147/2a000001609d6f9b20f67c89b58d365b1cf1/320x240\",\"1200x900\":\"//avatars.mds.yandex.net/get-verba/937147/2a000001609d6f9b20f67c89b58d365b1cf1/1200x900\",\"1200x900n\":\"//avatars.mds.yandex.net/get-verba/937147/2a000001609d6f9b20f67c89b58d365b1cf1/1200x900n\",\"thumb_m\":\"//avatars.mds.yandex.net/get-verba/937147/2a000001609d6f9b20f67c89b58d365b1cf1/thumb_m\",\"full\":\"//avatars.mds.yandex.net/get-verba/937147/2a000001609d6f9b20f67c89b58d365b1cf1/full\",\"832x624\":\"//avatars.mds.yandex.net/get-verba/937147/2a000001609d6f9b20f67c89b58d365b1cf1/832x624\",\"456x342\":\"//avatars.mds.yandex.net/get-verba/937147/2a000001609d6f9b20f67c89b58d365b1cf1/456x342\",\"120x90\":\"//avatars.mds.yandex.net/get-verba/937147/2a000001609d6f9b20f67c89b58d365b1cf1/120x90\",\"92x69\":\"//avatars.mds.yandex.net/get-verba/937147/2a000001609d6f9b20f67c89b58d365b1cf1/92x69\",\"islandoff\":\"//avatars.mds.yandex.net/get-verba/937147/2a000001609d6f9b20f67c89b58d365b1cf1/islandoff\",\"thumb_s\":\"//avatars.mds.yandex.net/get-verba/937147/2a000001609d6f9b20f67c89b58d365b1cf1/thumb_s\",\"thumb_s_2x\":\"//avatars.mds.yandex.net/get-verba/937147/2a000001609d6f9b20f67c89b58d365b1cf1/thumb_s_2x\"}},{\"name\":\"34-back\",\"sizes\":{\"orig\":\"//avatars.mds.yandex.net/get-verba/1030388/2a000001609d69f7f883629ac92b178c6087/orig\",\"wizardv3mr\":\"//avatars.mds.yandex.net/get-verba/1030388/2a000001609d69f7f883629ac92b178c6087/wizardv3mr\",\"wizardv3\":\"//avatars.mds.yandex.net/get-verba/1030388/2a000001609d69f7f883629ac92b178c6087/wizardv3\",\"cattouch\":\"//avatars.mds.yandex.net/get-verba/1030388/2a000001609d69f7f883629ac92b178c6087/cattouch\",\"small\":\"//avatars.mds.yandex.net/get-verba/1030388/2a000001609d69f7f883629ac92b178c6087/small\",\"320x240\":\"//avatars.mds.yandex.net/get-verba/1030388/2a000001609d69f7f883629ac92b178c6087/320x240\",\"1200x900\":\"//avatars.mds.yandex.net/get-verba/1030388/2a000001609d69f7f883629ac92b178c6087/1200x900\",\"1200x900n\":\"//avatars.mds.yandex.net/get-verba/1030388/2a000001609d69f7f883629ac92b178c6087/1200x900n\",\"thumb_m\":\"//avatars.mds.yandex.net/get-verba/1030388/2a000001609d69f7f883629ac92b178c6087/thumb_m\",\"full\":\"//avatars.mds.yandex.net/get-verba/1030388/2a000001609d69f7f883629ac92b178c6087/full\",\"832x624\":\"//avatars.mds.yandex.net/get-verba/1030388/2a000001609d69f7f883629ac92b178c6087/832x624\",\"456x342\":\"//avatars.mds.yandex.net/get-verba/1030388/2a000001609d69f7f883629ac92b178c6087/456x342\",\"120x90\":\"//avatars.mds.yandex.net/get-verba/1030388/2a000001609d69f7f883629ac92b178c6087/120x90\",\"92x69\":\"//avatars.mds.yandex.net/get-verba/1030388/2a000001609d69f7f883629ac92b178c6087/92x69\",\"islandoff\":\"//avatars.mds.yandex.net/get-verba/1030388/2a000001609d69f7f883629ac92b178c6087/islandoff\",\"thumb_s\":\"//avatars.mds.yandex.net/get-verba/1030388/2a000001609d69f7f883629ac92b178c6087/thumb_s\",\"thumb_s_2x\":\"//avatars.mds.yandex.net/get-verba/1030388/2a000001609d69f7f883629ac92b178c6087/thumb_s_2x\"}},{\"name\":\"side\",\"sizes\":{\"orig\":\"//avatars.mds.yandex.net/get-verba/787013/2a000001609d3a6f20595e1d620824e45b8b/orig\",\"wizardv3mr\":\"//avatars.mds.yandex.net/get-verba/787013/2a000001609d3a6f20595e1d620824e45b8b/wizardv3mr\",\"wizardv3\":\"//avatars.mds.yandex.net/get-verba/787013/2a000001609d3a6f20595e1d620824e45b8b/wizardv3\",\"cattouch\":\"//avatars.mds.yandex.net/get-verba/787013/2a000001609d3a6f20595e1d620824e45b8b/cattouch\",\"small\":\"//avatars.mds.yandex.net/get-verba/787013/2a000001609d3a6f20595e1d620824e45b8b/small\",\"320x240\":\"//avatars.mds.yandex.net/get-verba/787013/2a000001609d3a6f20595e1d620824e45b8b/320x240\",\"1200x900\":\"//avatars.mds.yandex.net/get-verba/787013/2a000001609d3a6f20595e1d620824e45b8b/1200x900\",\"1200x900n\":\"//avatars.mds.yandex.net/get-verba/787013/2a000001609d3a6f20595e1d620824e45b8b/1200x900n\",\"thumb_m\":\"//avatars.mds.yandex.net/get-verba/787013/2a000001609d3a6f20595e1d620824e45b8b/thumb_m\",\"full\":\"//avatars.mds.yandex.net/get-verba/787013/2a000001609d3a6f20595e1d620824e45b8b/full\",\"832x624\":\"//avatars.mds.yandex.net/get-verba/787013/2a000001609d3a6f20595e1d620824e45b8b/832x624\",\"456x342\":\"//avatars.mds.yandex.net/get-verba/787013/2a000001609d3a6f20595e1d620824e45b8b/456x342\",\"120x90\":\"//avatars.mds.yandex.net/get-verba/787013/2a000001609d3a6f20595e1d620824e45b8b/120x90\",\"92x69\":\"//avatars.mds.yandex.net/get-verba/787013/2a000001609d3a6f20595e1d620824e45b8b/92x69\",\"islandoff\":\"//avatars.mds.yandex.net/get-verba/787013/2a000001609d3a6f20595e1d620824e45b8b/islandoff\",\"thumb_s\":\"//avatars.mds.yandex.net/get-verba/787013/2a000001609d3a6f20595e1d620824e45b8b/thumb_s\",\"thumb_s_2x\":\"//avatars.mds.yandex.net/get-verba/787013/2a000001609d3a6f20595e1d620824e45b8b/thumb_s_2x\"}}],\"main_color\":false}]}        1\n",
       "{\"id\":\"20242014\",\"name\":\"Стандарт\",\"available_options\":[\"multi-wheel\",\"airbag-passenger\",\"lock\",\"electro-mirrors\",\"mirrors-heat\",\"computer\",\"seat-transformation\",\"wheel-power\",\"fabric-seats\",\"steel-wheels\",\"airbag-side\",\"abs\",\"usb\",\"windcleaner-heat\",\"audiopreparation\",\"electro-window-back\",\"condition\",\"knee-airbag\",\"airbag-driver\",\"isofix\",\"aux\",\"electro-window-front\",\"hcc\",\"airbag-curtain\",\"ptf\",\"audiosystem-cd\",\"front-seats-heat\",\"bluetooth\",\"wheel-configuration2\",\"wheel-configuration1\",\"immo\"]}                                                                                                                                                                                                                                                                                                                                                                                                                                                                                                                                                                                                                                                                                                                                                                                                                                                                                                                                                                                                                                                                                                                                                                                                                                                                                                                                                                                                                                                                                                                                                                                                                                                                                                                                                                                                                                                                                                                                                                                                                                                                                                                                                                                                                                                                                                                                                                                                                                                                                                                                                                                                                                                                                                                                                                                                                                                                                                                                                                                                                                                                                                                                                                                                                                                                                                                                                                                                                                                                                                                                                                                                                                                                                                                                                                                                                                                                                                                                                                                                                                                                                                                                                                                                                                                                                                                                                                                                                                                                                                                                                                                                                                                                                                                                                                                                                                                                                                                                                                                                                                                                                                                                                                                                                                                                                                                                                                                                                                                                                                                                                                                                                                                                                                                                                                                                                                                                      1\n",
       "{\"id\":\"21436767\",\"name\":\"LE Yandex (2018-2020)\",\"available_options\":[\"cruise-control\",\"multi-wheel\",\"airbag-passenger\",\"bas\",\"lock\",\"electro-mirrors\",\"easy-trunk-opening\",\"mirrors-heat\",\"leather\",\"glonass\",\"automatic-lighting-control\",\"passenger-seat-updown\",\"collision-prevention-assist\",\"computer\",\"high-beam-assist\",\"ya-auto\",\"seat-transformation\",\"wheel-power\",\"light-cleaner\",\"driver-seat-electric\",\"airbag-side\",\"electro-trunk\",\"abs\",\"wheel-leather\",\"climate-control-2\",\"asr\",\"tinted-glass\",\"esp\",\"adaptive-light\",\"usb\",\"audiopreparation\",\"lane-keeping-assist\",\"front-centre-armrest\",\"electro-window-back\",\"18-inch-wheels\",\"reduce-spare-wheel\",\"park-assist-f\",\"rear-seats-heat\",\"wheel-heat\",\"led-lights\",\"park-assist-r\",\"airbag-driver\",\"isofix\",\"aux\",\"electro-window-front\",\"light-sensor\",\"hcc\",\"airbag-curtain\",\"keyless-entry\",\"leather-gear-stick\",\"blind-spot\",\"start-button\",\"ptf\",\"rain-sensor\",\"tyre-pressure\",\"audiosystem-cd\",\"front-seats-heat\",\"bluetooth\",\"wheel-configuration2\",\"wheel-configuration1\",\"immo\",\"windscreen-heat\",\"12v-socket\",\"third-rear-headrest\"],\"vendor_colors\":[{\"body_color_id\":21524564,\"mark_color_id\":21524543,\"name_ru\":\"Оранжевый\",\"hex_codes\":[\"BF7127\"],\"color_type\":\"METALLIC\",\"stock_color\":{\"hex_code\":\"FF8649\",\"name_ru\":\"оранжевый\"},\"photos\":[{\"name\":\"34-front\",\"sizes\":{\"orig\":\"//avatars.mds.yandex.net/get-verba/1604130/2a00000169a11b06eaf36fa883cbfdcd2754/orig\",\"wizardv3mr\":\"//avatars.mds.yandex.net/get-verba/1604130/2a00000169a11b06eaf36fa883cbfdcd2754/wizardv3mr\",\"wizardv3\":\"//avatars.mds.yandex.net/get-verba/1604130/2a00000169a11b06eaf36fa883cbfdcd2754/wizardv3\",\"cattouch\":\"//avatars.mds.yandex.net/get-verba/1604130/2a00000169a11b06eaf36fa883cbfdcd2754/cattouch\",\"small\":\"//avatars.mds.yandex.net/get-verba/1604130/2a00000169a11b06eaf36fa883cbfdcd2754/small\",\"320x240\":\"//avatars.mds.yandex.net/get-verba/1604130/2a00000169a11b06eaf36fa883cbfdcd2754/320x240\",\"1200x900\":\"//avatars.mds.yandex.net/get-verba/1604130/2a00000169a11b06eaf36fa883cbfdcd2754/1200x900\",\"1200x900n\":\"//avatars.mds.yandex.net/get-verba/1604130/2a00000169a11b06eaf36fa883cbfdcd2754/1200x900n\",\"thumb_m\":\"//avatars.mds.yandex.net/get-verba/1604130/2a00000169a11b06eaf36fa883cbfdcd2754/thumb_m\",\"full\":\"//avatars.mds.yandex.net/get-verba/1604130/2a00000169a11b06eaf36fa883cbfdcd2754/full\",\"832x624\":\"//avatars.mds.yandex.net/get-verba/1604130/2a00000169a11b06eaf36fa883cbfdcd2754/832x624\",\"456x342\":\"//avatars.mds.yandex.net/get-verba/1604130/2a00000169a11b06eaf36fa883cbfdcd2754/456x342\",\"120x90\":\"//avatars.mds.yandex.net/get-verba/1604130/2a00000169a11b06eaf36fa883cbfdcd2754/120x90\",\"92x69\":\"//avatars.mds.yandex.net/get-verba/1604130/2a00000169a11b06eaf36fa883cbfdcd2754/92x69\",\"islandoff\":\"//avatars.mds.yandex.net/get-verba/1604130/2a00000169a11b06eaf36fa883cbfdcd2754/islandoff\",\"thumb_s\":\"//avatars.mds.yandex.net/get-verba/1604130/2a00000169a11b06eaf36fa883cbfdcd2754/thumb_s\",\"thumb_s_2x\":\"//avatars.mds.yandex.net/get-verba/1604130/2a00000169a11b06eaf36fa883cbfdcd2754/thumb_s_2x\"}}],\"main_color\":true}]}                                                                                                                                                                                                                                                                                                                                                                                                                                                                                                                                                                                                                                                                                                                                                                                                                                                                                                                                                                                                                                                                                                                                                                                                                                                                                                                                                                                                                                                                                                                                                                                                                                                                                                                                                                                                                                                                                                                                                                                                                                                                                                                                                                                                                                                                                                                                                                                                                                                                                                                                                                                                                                                                                                                                                                                                                                                                                                                                                                                                                                                                                                                                                                                                                                   1\n",
       "{\"id\":\"4627027\",\"name\":\"sDrive23i\",\"available_options\":[\"xenon\",\"airbag-passenger\",\"lock\",\"electro-mirrors\",\"computer\",\"wheel-power\",\"fabric-seats\",\"airbag-side\",\"abs\",\"esp\",\"audiopreparation\",\"condition\",\"airbag-driver\",\"electro-window-front\",\"audiosystem-cd\",\"wheel-configuration2\",\"wheel-configuration1\",\"immo\"]}                                                                                                                                                                                                                                                                                                                                                                                                                                                                                                                                                                                                                                                                                                                                                                                                                                                                                                                                                                                                                                                                                                                                                                                                                                                                                                                                                                                                                                                                                                                                                                                                                                                                                                                                                                                                                                                                                                                                                                                                                                                                                                                                                                                                                                                                                                                                                                                                                                                                                                                                                                                                                                                                                                                                                                                                                                                                                                                                                                                                                                                                                                                                                                                                                                                                                                                                                                                                                                                                                                                                                                                                                                                                                                                                                                                                                                                                                                                                                                                                                                                                                                                                                                                                                                                                                                                                                                                                                                                                                                                                                                                                                                                                                                                                                                                                                                                                                                                                                                                                                                                                                                                                                                                                                                                                                                                                                                                                                                                                                                                                                                                                                                                                                                                                                                                                                                                                                                                                                                                                                                                                  1\n",
       "Name: complectation_dict, Length: 2708, dtype: int64"
      ]
     },
     "execution_count": 21,
     "metadata": {},
     "output_type": "execute_result"
    }
   ],
   "source": [
    "df['complectation_dict'].value_counts()"
   ]
  },
  {
   "cell_type": "markdown",
   "metadata": {},
   "source": [
    "В столбце 'complectation_dict' 28268 пропусков и 24432 не имеющих смысла значений {\"id\":\"0\",\"name\":\"\"}. Данных слишком мало, можно удалить столбец"
   ]
  },
  {
   "cell_type": "code",
   "execution_count": 22,
   "metadata": {},
   "outputs": [],
   "source": [
    "df = df.drop(['complectation_dict'], axis = 1)"
   ]
  },
  {
   "cell_type": "code",
   "execution_count": 23,
   "metadata": {},
   "outputs": [
    {
     "data": {
      "text/plain": [
       "Не требует ремонта    65721\n",
       "Name: condition, dtype: int64"
      ]
     },
     "execution_count": 23,
     "metadata": {},
     "output_type": "execute_result"
    }
   ],
   "source": [
    "df['condition'].value_counts()"
   ]
  },
  {
   "cell_type": "code",
   "execution_count": 24,
   "metadata": {},
   "outputs": [
    {
     "data": {
      "text/plain": [
       "Растаможен    65669\n",
       "Name: customs, dtype: int64"
      ]
     },
     "execution_count": 24,
     "metadata": {},
     "output_type": "execute_result"
    }
   ],
   "source": [
    "df['customs'].value_counts()"
   ]
  },
  {
   "cell_type": "markdown",
   "metadata": {},
   "source": [
    "Столбцы 'customs', 'condition' имеют только по одному значению, поэтому их можно удалить"
   ]
  },
  {
   "cell_type": "code",
   "execution_count": 25,
   "metadata": {},
   "outputs": [],
   "source": [
    "df = df.drop(['customs', 'condition'], axis = 1)"
   ]
  },
  {
   "cell_type": "markdown",
   "metadata": {},
   "source": [
    "В столбце 'equipment_dict' пустые значения заменим выражением \"нет данных\""
   ]
  },
  {
   "cell_type": "code",
   "execution_count": 26,
   "metadata": {},
   "outputs": [],
   "source": [
    "df['equipment_dict'] = df['equipment_dict'].fillna('n')\n",
    "for index in df.index:\n",
    "    if df.loc[index, 'equipment_dict'] == '{}':\n",
    "        df.loc[index, 'equipment_dict'] = 'n'"
   ]
  },
  {
   "cell_type": "markdown",
   "metadata": {},
   "source": [
    "В столбце 'tenure' мало информации. Корректно заполнить его невозможно, поэтому удаляем данный столбец"
   ]
  },
  {
   "cell_type": "code",
   "execution_count": 27,
   "metadata": {},
   "outputs": [],
   "source": [
    "df = df.drop(['tenure'], axis = 1)"
   ]
  },
  {
   "cell_type": "markdown",
   "metadata": {},
   "source": [
    "Столбец 'vehicle_passport' имеет мало пропущенных значений, поэтому заполним чаще встречающимся"
   ]
  },
  {
   "cell_type": "code",
   "execution_count": 28,
   "metadata": {},
   "outputs": [
    {
     "data": {
      "text/plain": [
       "ORIGINAL     63058\n",
       "DUPLICATE    11008\n",
       "Name: vehicle_passport, dtype: int64"
      ]
     },
     "execution_count": 28,
     "metadata": {},
     "output_type": "execute_result"
    }
   ],
   "source": [
    "df['vehicle_passport'].value_counts()"
   ]
  },
  {
   "cell_type": "code",
   "execution_count": 29,
   "metadata": {},
   "outputs": [],
   "source": [
    "df['vehicle_passport'] = df['vehicle_passport'].fillna('ORIGINAL')"
   ]
  },
  {
   "cell_type": "markdown",
   "metadata": {},
   "source": [
    "В столбце 'wheel_drive' пропущенные значения заполним типом привода аналогичных моделей в других строках."
   ]
  },
  {
   "cell_type": "code",
   "execution_count": 30,
   "metadata": {},
   "outputs": [],
   "source": [
    "# создаем словарь, где ключи - это модель автомобиля, а значения - тип привода\n",
    "wheel_drive_dict = {}\n",
    "for elem in df[df['wheel_drive'].isnull() == False].index:\n",
    "    wheel_drive_dict[df.loc[elem, 'model_name']] = df.loc[elem, 'wheel_drive']"
   ]
  },
  {
   "cell_type": "code",
   "execution_count": 31,
   "metadata": {},
   "outputs": [
    {
     "name": "stdout",
     "output_type": "stream",
     "text": [
      "Q5_SPORTBACK\n",
      "QX55\n"
     ]
    }
   ],
   "source": [
    "# проверяем каких моделей нет в словаре\n",
    "for elem in df[df['wheel_drive'].isnull()]['model_name'].value_counts().index:\n",
    "    if elem not in wheel_drive_dict:\n",
    "        print(elem)"
   ]
  },
  {
   "cell_type": "code",
   "execution_count": 32,
   "metadata": {},
   "outputs": [],
   "source": [
    "# присваиваем отсутствующим ключам значения\n",
    "wheel_drive_dict['Q5_SPORTBACK'] = 'полный'\n",
    "wheel_drive_dict['QX55'] = 'полный'"
   ]
  },
  {
   "cell_type": "code",
   "execution_count": 33,
   "metadata": {},
   "outputs": [],
   "source": [
    "# каждую ячейку с пропущенным значением заполняем значением ключа, который соответствует модели автомобиля в этой строке  \n",
    "for elem in df[df['wheel_drive'].isnull()].index:\n",
    "    df.loc[elem, 'wheel_drive'] = wheel_drive_dict[df.loc[elem, 'model_name']]"
   ]
  },
  {
   "cell_type": "markdown",
   "metadata": {},
   "source": [
    "Смотрим у каких брендов автомобилей не указан поставщик, и вручную заполняем пропуски"
   ]
  },
  {
   "cell_type": "code",
   "execution_count": 34,
   "metadata": {},
   "outputs": [
    {
     "data": {
      "text/plain": [
       "TOYOTA    205\n",
       "Name: brand, dtype: int64"
      ]
     },
     "execution_count": 34,
     "metadata": {},
     "output_type": "execute_result"
    }
   ],
   "source": [
    "df[df['vendor'].isnull()]['brand'].value_counts()"
   ]
  },
  {
   "cell_type": "code",
   "execution_count": 35,
   "metadata": {},
   "outputs": [],
   "source": [
    "df['vendor'] = df['vendor'].fillna('JAPANESE')"
   ]
  },
  {
   "cell_type": "code",
   "execution_count": 36,
   "metadata": {},
   "outputs": [
    {
     "name": "stdout",
     "output_type": "stream",
     "text": [
      "<class 'pandas.core.frame.DataFrame'>\n",
      "RangeIndex: 75239 entries, 0 to 75238\n",
      "Data columns (total 22 columns):\n",
      " #   Column                Non-Null Count  Dtype  \n",
      "---  ------                --------------  -----  \n",
      " 0   body_type             75239 non-null  object \n",
      " 1   brand                 75239 non-null  object \n",
      " 2   color                 75239 non-null  object \n",
      " 3   description           75239 non-null  object \n",
      " 4   engine_displacement   75239 non-null  object \n",
      " 5   engine_power          75239 non-null  object \n",
      " 6   equipment_dict        75239 non-null  object \n",
      " 7   mileage               75239 non-null  float64\n",
      " 8   model_info            75239 non-null  object \n",
      " 9   model_name            75239 non-null  object \n",
      " 10  number_of_doors       75239 non-null  float64\n",
      " 11  owners                75239 non-null  object \n",
      " 12  price                 75239 non-null  float64\n",
      " 13  production_date       75239 non-null  float64\n",
      " 14  super_gen             75239 non-null  object \n",
      " 15  vehicle_passport      75239 non-null  object \n",
      " 16  vehicle_transmission  75239 non-null  object \n",
      " 17  vendor                75239 non-null  object \n",
      " 18  wheel                 75239 non-null  object \n",
      " 19  wheel_drive           75239 non-null  object \n",
      " 20  fuel_type             75239 non-null  object \n",
      " 21  sample                75239 non-null  int64  \n",
      "dtypes: float64(4), int64(1), object(17)\n",
      "memory usage: 12.6+ MB\n"
     ]
    }
   ],
   "source": [
    "df.info()"
   ]
  },
  {
   "cell_type": "code",
   "execution_count": 37,
   "metadata": {},
   "outputs": [
    {
     "name": "stdout",
     "output_type": "stream",
     "text": [
      "body_type : 24\n",
      "brand : 12\n",
      "color : 16\n",
      "description : 33133\n",
      "engine_displacement : 55\n",
      "engine_power : 324\n",
      "equipment_dict : 25002\n",
      "mileage : 11272\n",
      "model_info : 1191\n",
      "model_name : 557\n",
      "number_of_doors : 5\n",
      "owners : 8\n",
      "price : 575\n",
      "production_date : 70\n",
      "super_gen : 7171\n",
      "vehicle_passport : 2\n",
      "vehicle_transmission : 4\n",
      "vendor : 2\n",
      "wheel : 2\n",
      "wheel_drive : 3\n",
      "fuel_type : 5\n",
      "sample : 2\n"
     ]
    }
   ],
   "source": [
    "# посмотрим количество значений в столбцах\n",
    "for column in df.columns:\n",
    "    print(column, ':', len(df[column].value_counts()))"
   ]
  },
  {
   "cell_type": "code",
   "execution_count": 38,
   "metadata": {},
   "outputs": [
    {
     "name": "stdout",
     "output_type": "stream",
     "text": [
      "['vehicle_passport', 'vendor', 'wheel', 'sample']\n"
     ]
    }
   ],
   "source": [
    "# создадим список бинарных столбцов\n",
    "bin_cols = []\n",
    "for column in df.columns:\n",
    "    if len(df[column].value_counts()) == 2:\n",
    "        bin_cols.append(column)\n",
    "print(bin_cols)"
   ]
  },
  {
   "cell_type": "code",
   "execution_count": 39,
   "metadata": {},
   "outputs": [],
   "source": [
    "bin_cols.remove('sample')\n",
    "label_encoder = LabelEncoder()\n",
    "\n",
    "for column in bin_cols:\n",
    "    df[column] = label_encoder.fit_transform(df[column])"
   ]
  },
  {
   "cell_type": "code",
   "execution_count": 40,
   "metadata": {},
   "outputs": [
    {
     "data": {
      "text/html": [
       "<div>\n",
       "<style scoped>\n",
       "    .dataframe tbody tr th:only-of-type {\n",
       "        vertical-align: middle;\n",
       "    }\n",
       "\n",
       "    .dataframe tbody tr th {\n",
       "        vertical-align: top;\n",
       "    }\n",
       "\n",
       "    .dataframe thead th {\n",
       "        text-align: right;\n",
       "    }\n",
       "</style>\n",
       "<table border=\"1\" class=\"dataframe\">\n",
       "  <thead>\n",
       "    <tr style=\"text-align: right;\">\n",
       "      <th></th>\n",
       "      <th>vehicle_passport</th>\n",
       "      <th>vendor</th>\n",
       "      <th>wheel</th>\n",
       "    </tr>\n",
       "  </thead>\n",
       "  <tbody>\n",
       "    <tr>\n",
       "      <th>0</th>\n",
       "      <td>1</td>\n",
       "      <td>0</td>\n",
       "      <td>0</td>\n",
       "    </tr>\n",
       "    <tr>\n",
       "      <th>1</th>\n",
       "      <td>1</td>\n",
       "      <td>0</td>\n",
       "      <td>0</td>\n",
       "    </tr>\n",
       "    <tr>\n",
       "      <th>2</th>\n",
       "      <td>1</td>\n",
       "      <td>0</td>\n",
       "      <td>0</td>\n",
       "    </tr>\n",
       "    <tr>\n",
       "      <th>3</th>\n",
       "      <td>0</td>\n",
       "      <td>0</td>\n",
       "      <td>0</td>\n",
       "    </tr>\n",
       "    <tr>\n",
       "      <th>4</th>\n",
       "      <td>0</td>\n",
       "      <td>0</td>\n",
       "      <td>0</td>\n",
       "    </tr>\n",
       "  </tbody>\n",
       "</table>\n",
       "</div>"
      ],
      "text/plain": [
       "   vehicle_passport  vendor  wheel\n",
       "0                 1       0      0\n",
       "1                 1       0      0\n",
       "2                 1       0      0\n",
       "3                 0       0      0\n",
       "4                 0       0      0"
      ]
     },
     "execution_count": 40,
     "metadata": {},
     "output_type": "execute_result"
    }
   ],
   "source": [
    "df[bin_cols].head()"
   ]
  },
  {
   "cell_type": "markdown",
   "metadata": {},
   "source": [
    "Столбцы, у которых значечния количественные, переведем в числа"
   ]
  },
  {
   "cell_type": "code",
   "execution_count": 41,
   "metadata": {},
   "outputs": [],
   "source": [
    "# занчения столбца с описаниями заменим на длину описаний\n",
    "df['description'] = df['description'].apply(lambda x: len(x))"
   ]
  },
  {
   "cell_type": "code",
   "execution_count": 42,
   "metadata": {},
   "outputs": [],
   "source": [
    "# в 'engine_displacement' оставляем только числа\n",
    "df['engine_displacement'] = df['engine_displacement'].apply(lambda x: float(re.sub(r'\\sLTR', '', x)) if len(x)>4 else 0)"
   ]
  },
  {
   "cell_type": "code",
   "execution_count": 43,
   "metadata": {},
   "outputs": [
    {
     "data": {
      "text/plain": [
       "0        1.5\n",
       "1        1.2\n",
       "2        1.6\n",
       "3        2.0\n",
       "4        2.0\n",
       "        ... \n",
       "75234    1.6\n",
       "75235    2.0\n",
       "75236    2.5\n",
       "75237    2.0\n",
       "75238    3.0\n",
       "Name: engine_displacement, Length: 75239, dtype: float64"
      ]
     },
     "execution_count": 43,
     "metadata": {},
     "output_type": "execute_result"
    }
   ],
   "source": [
    "df['engine_displacement']"
   ]
  },
  {
   "cell_type": "code",
   "execution_count": 44,
   "metadata": {},
   "outputs": [
    {
     "data": {
      "text/plain": [
       "150 N12    4860\n",
       "249 N12    3092\n",
       "110 N12    2636\n",
       "140 N12    2201\n",
       "105 N12    1898\n",
       "Name: engine_power, dtype: int64"
      ]
     },
     "execution_count": 44,
     "metadata": {},
     "output_type": "execute_result"
    }
   ],
   "source": [
    "df['engine_power'].value_counts().head()"
   ]
  },
  {
   "cell_type": "code",
   "execution_count": 45,
   "metadata": {},
   "outputs": [],
   "source": [
    "# в 'engine_power' оставляем только числа\n",
    "df['engine_power'] = df['engine_power'].apply(lambda x: float(re.sub(r'\\sN12', '', x)))"
   ]
  },
  {
   "cell_type": "code",
   "execution_count": 46,
   "metadata": {},
   "outputs": [
    {
     "data": {
      "text/plain": [
       "150.0    4860\n",
       "249.0    3092\n",
       "110.0    2636\n",
       "140.0    2201\n",
       "105.0    1898\n",
       "Name: engine_power, dtype: int64"
      ]
     },
     "execution_count": 46,
     "metadata": {},
     "output_type": "execute_result"
    }
   ],
   "source": [
    "df['engine_power'].value_counts().head()"
   ]
  },
  {
   "cell_type": "code",
   "execution_count": 47,
   "metadata": {},
   "outputs": [
    {
     "data": {
      "text/plain": [
       "3 или более    15957\n",
       "4              12406\n",
       "0               9518\n",
       "1 владелец      9459\n",
       "2 владельца     9270\n",
       "Name: owners, dtype: int64"
      ]
     },
     "execution_count": 47,
     "metadata": {},
     "output_type": "execute_result"
    }
   ],
   "source": [
    "df['owners'].value_counts().head()"
   ]
  },
  {
   "cell_type": "code",
   "execution_count": 48,
   "metadata": {},
   "outputs": [],
   "source": [
    "# в 'owners' оставляем только числа\n",
    "df['owners'] = df['owners'].apply(lambda x: int(re.sub(r'\\D', '', x)) if type(x) == str else x)"
   ]
  },
  {
   "cell_type": "code",
   "execution_count": 49,
   "metadata": {},
   "outputs": [
    {
     "data": {
      "text/plain": [
       "3    20806\n",
       "2    16672\n",
       "1    15837\n",
       "4    12406\n",
       "0     9518\n",
       "Name: owners, dtype: int64"
      ]
     },
     "execution_count": 49,
     "metadata": {},
     "output_type": "execute_result"
    }
   ],
   "source": [
    "df['owners'].value_counts().head()"
   ]
  },
  {
   "cell_type": "code",
   "execution_count": 50,
   "metadata": {},
   "outputs": [
    {
     "name": "stdout",
     "output_type": "stream",
     "text": [
      "<class 'pandas.core.frame.DataFrame'>\n",
      "RangeIndex: 75239 entries, 0 to 75238\n",
      "Data columns (total 22 columns):\n",
      " #   Column                Non-Null Count  Dtype  \n",
      "---  ------                --------------  -----  \n",
      " 0   body_type             75239 non-null  object \n",
      " 1   brand                 75239 non-null  object \n",
      " 2   color                 75239 non-null  object \n",
      " 3   description           75239 non-null  int64  \n",
      " 4   engine_displacement   75239 non-null  float64\n",
      " 5   engine_power          75239 non-null  float64\n",
      " 6   equipment_dict        75239 non-null  object \n",
      " 7   mileage               75239 non-null  float64\n",
      " 8   model_info            75239 non-null  object \n",
      " 9   model_name            75239 non-null  object \n",
      " 10  number_of_doors       75239 non-null  float64\n",
      " 11  owners                75239 non-null  int64  \n",
      " 12  price                 75239 non-null  float64\n",
      " 13  production_date       75239 non-null  float64\n",
      " 14  super_gen             75239 non-null  object \n",
      " 15  vehicle_passport      75239 non-null  int32  \n",
      " 16  vehicle_transmission  75239 non-null  object \n",
      " 17  vendor                75239 non-null  int32  \n",
      " 18  wheel                 75239 non-null  int32  \n",
      " 19  wheel_drive           75239 non-null  object \n",
      " 20  fuel_type             75239 non-null  object \n",
      " 21  sample                75239 non-null  int64  \n",
      "dtypes: float64(6), int32(3), int64(3), object(10)\n",
      "memory usage: 11.8+ MB\n"
     ]
    }
   ],
   "source": [
    "df.info()"
   ]
  },
  {
   "cell_type": "markdown",
   "metadata": {},
   "source": [
    "Столбцы 'model_info', 'super_gen' дублируют информацию из других столбцов. Удаляем их"
   ]
  },
  {
   "cell_type": "code",
   "execution_count": 51,
   "metadata": {},
   "outputs": [],
   "source": [
    "df = df.drop(['model_info', 'super_gen'], axis=1)"
   ]
  },
  {
   "cell_type": "code",
   "execution_count": 52,
   "metadata": {},
   "outputs": [],
   "source": [
    "cat_columns = ['body_type', 'brand', 'color', 'model_name', 'vehicle_transmission', 'wheel_drive', 'fuel_type']"
   ]
  },
  {
   "cell_type": "code",
   "execution_count": 53,
   "metadata": {},
   "outputs": [],
   "source": [
    "# сделаем унитарное кодирование категориальных столбцов\n",
    "df = pd.get_dummies(df, columns=cat_columns)"
   ]
  },
  {
   "cell_type": "code",
   "execution_count": 54,
   "metadata": {},
   "outputs": [],
   "source": [
    "# создаем списки из строк в столбце 'equipment_dict'\n",
    "for index in df.index:\n",
    "    no_data_list = []\n",
    "    if df.loc[index, 'equipment_dict']!='no data':\n",
    "        df.loc[index, 'equipment_dict'] = re.sub(r':true', '', re.sub(r'{|}$', '', df.loc[index, 'equipment_dict']))\n",
    "        \n",
    "df['equipment_dict'] = df['equipment_dict'].apply(lambda x: x.split(',') if x!='n' else x)"
   ]
  },
  {
   "cell_type": "code",
   "execution_count": 55,
   "metadata": {},
   "outputs": [],
   "source": [
    "# и так же сделаем унитарное кодирование\n",
    "mlb = MultiLabelBinarizer()\n",
    "df = df.join(pd.DataFrame(mlb.fit_transform(df.pop('equipment_dict')), index=df.index, columns=mlb.classes_))"
   ]
  },
  {
   "cell_type": "code",
   "execution_count": 56,
   "metadata": {},
   "outputs": [
    {
     "data": {
      "text/html": [
       "<div>\n",
       "<style scoped>\n",
       "    .dataframe tbody tr th:only-of-type {\n",
       "        vertical-align: middle;\n",
       "    }\n",
       "\n",
       "    .dataframe tbody tr th {\n",
       "        vertical-align: top;\n",
       "    }\n",
       "\n",
       "    .dataframe thead th {\n",
       "        text-align: right;\n",
       "    }\n",
       "</style>\n",
       "<table border=\"1\" class=\"dataframe\">\n",
       "  <thead>\n",
       "    <tr style=\"text-align: right;\">\n",
       "      <th></th>\n",
       "      <th>description</th>\n",
       "      <th>engine_displacement</th>\n",
       "      <th>engine_power</th>\n",
       "      <th>mileage</th>\n",
       "      <th>number_of_doors</th>\n",
       "      <th>owners</th>\n",
       "      <th>price</th>\n",
       "      <th>production_date</th>\n",
       "      <th>vehicle_passport</th>\n",
       "      <th>vendor</th>\n",
       "      <th>...</th>\n",
       "      <th>\"wheel-heat\"</th>\n",
       "      <th>\"wheel-leather\"</th>\n",
       "      <th>\"wheel-memory\"</th>\n",
       "      <th>\"wheel-power\"</th>\n",
       "      <th>\"windcleaner-heat\"</th>\n",
       "      <th>\"windscreen-heat\"</th>\n",
       "      <th>\"wireless-charger\"</th>\n",
       "      <th>\"xenon\"</th>\n",
       "      <th>\"ya-auto\"</th>\n",
       "      <th>n</th>\n",
       "    </tr>\n",
       "  </thead>\n",
       "  <tbody>\n",
       "    <tr>\n",
       "      <th>0</th>\n",
       "      <td>1588</td>\n",
       "      <td>1.5</td>\n",
       "      <td>150.0</td>\n",
       "      <td>56000.0</td>\n",
       "      <td>5.0</td>\n",
       "      <td>2</td>\n",
       "      <td>1600000.0</td>\n",
       "      <td>2017.0</td>\n",
       "      <td>1</td>\n",
       "      <td>0</td>\n",
       "      <td>...</td>\n",
       "      <td>0</td>\n",
       "      <td>1</td>\n",
       "      <td>0</td>\n",
       "      <td>0</td>\n",
       "      <td>0</td>\n",
       "      <td>1</td>\n",
       "      <td>0</td>\n",
       "      <td>0</td>\n",
       "      <td>0</td>\n",
       "      <td>0</td>\n",
       "    </tr>\n",
       "    <tr>\n",
       "      <th>1</th>\n",
       "      <td>360</td>\n",
       "      <td>1.2</td>\n",
       "      <td>110.0</td>\n",
       "      <td>153000.0</td>\n",
       "      <td>5.0</td>\n",
       "      <td>1</td>\n",
       "      <td>830000.0</td>\n",
       "      <td>2016.0</td>\n",
       "      <td>1</td>\n",
       "      <td>0</td>\n",
       "      <td>...</td>\n",
       "      <td>0</td>\n",
       "      <td>0</td>\n",
       "      <td>0</td>\n",
       "      <td>0</td>\n",
       "      <td>0</td>\n",
       "      <td>0</td>\n",
       "      <td>0</td>\n",
       "      <td>0</td>\n",
       "      <td>0</td>\n",
       "      <td>1</td>\n",
       "    </tr>\n",
       "    <tr>\n",
       "      <th>2</th>\n",
       "      <td>1313</td>\n",
       "      <td>1.6</td>\n",
       "      <td>90.0</td>\n",
       "      <td>151000.0</td>\n",
       "      <td>5.0</td>\n",
       "      <td>2</td>\n",
       "      <td>730000.0</td>\n",
       "      <td>2012.0</td>\n",
       "      <td>1</td>\n",
       "      <td>0</td>\n",
       "      <td>...</td>\n",
       "      <td>0</td>\n",
       "      <td>0</td>\n",
       "      <td>0</td>\n",
       "      <td>1</td>\n",
       "      <td>0</td>\n",
       "      <td>0</td>\n",
       "      <td>0</td>\n",
       "      <td>0</td>\n",
       "      <td>0</td>\n",
       "      <td>0</td>\n",
       "    </tr>\n",
       "    <tr>\n",
       "      <th>3</th>\n",
       "      <td>109</td>\n",
       "      <td>2.0</td>\n",
       "      <td>115.0</td>\n",
       "      <td>318000.0</td>\n",
       "      <td>5.0</td>\n",
       "      <td>3</td>\n",
       "      <td>180000.0</td>\n",
       "      <td>1998.0</td>\n",
       "      <td>0</td>\n",
       "      <td>0</td>\n",
       "      <td>...</td>\n",
       "      <td>0</td>\n",
       "      <td>0</td>\n",
       "      <td>0</td>\n",
       "      <td>0</td>\n",
       "      <td>0</td>\n",
       "      <td>0</td>\n",
       "      <td>0</td>\n",
       "      <td>0</td>\n",
       "      <td>0</td>\n",
       "      <td>1</td>\n",
       "    </tr>\n",
       "    <tr>\n",
       "      <th>4</th>\n",
       "      <td>175</td>\n",
       "      <td>2.0</td>\n",
       "      <td>140.0</td>\n",
       "      <td>297000.0</td>\n",
       "      <td>5.0</td>\n",
       "      <td>4</td>\n",
       "      <td>460000.0</td>\n",
       "      <td>2010.0</td>\n",
       "      <td>0</td>\n",
       "      <td>0</td>\n",
       "      <td>...</td>\n",
       "      <td>0</td>\n",
       "      <td>0</td>\n",
       "      <td>0</td>\n",
       "      <td>1</td>\n",
       "      <td>0</td>\n",
       "      <td>0</td>\n",
       "      <td>0</td>\n",
       "      <td>0</td>\n",
       "      <td>0</td>\n",
       "      <td>0</td>\n",
       "    </tr>\n",
       "    <tr>\n",
       "      <th>...</th>\n",
       "      <td>...</td>\n",
       "      <td>...</td>\n",
       "      <td>...</td>\n",
       "      <td>...</td>\n",
       "      <td>...</td>\n",
       "      <td>...</td>\n",
       "      <td>...</td>\n",
       "      <td>...</td>\n",
       "      <td>...</td>\n",
       "      <td>...</td>\n",
       "      <td>...</td>\n",
       "      <td>...</td>\n",
       "      <td>...</td>\n",
       "      <td>...</td>\n",
       "      <td>...</td>\n",
       "      <td>...</td>\n",
       "      <td>...</td>\n",
       "      <td>...</td>\n",
       "      <td>...</td>\n",
       "      <td>...</td>\n",
       "      <td>...</td>\n",
       "    </tr>\n",
       "    <tr>\n",
       "      <th>75234</th>\n",
       "      <td>414</td>\n",
       "      <td>1.6</td>\n",
       "      <td>136.0</td>\n",
       "      <td>115000.0</td>\n",
       "      <td>4.0</td>\n",
       "      <td>3</td>\n",
       "      <td>0.0</td>\n",
       "      <td>2014.0</td>\n",
       "      <td>1</td>\n",
       "      <td>0</td>\n",
       "      <td>...</td>\n",
       "      <td>1</td>\n",
       "      <td>1</td>\n",
       "      <td>0</td>\n",
       "      <td>0</td>\n",
       "      <td>0</td>\n",
       "      <td>0</td>\n",
       "      <td>0</td>\n",
       "      <td>1</td>\n",
       "      <td>0</td>\n",
       "      <td>0</td>\n",
       "    </tr>\n",
       "    <tr>\n",
       "      <th>75235</th>\n",
       "      <td>30</td>\n",
       "      <td>2.0</td>\n",
       "      <td>190.0</td>\n",
       "      <td>98000.0</td>\n",
       "      <td>4.0</td>\n",
       "      <td>1</td>\n",
       "      <td>0.0</td>\n",
       "      <td>2018.0</td>\n",
       "      <td>1</td>\n",
       "      <td>0</td>\n",
       "      <td>...</td>\n",
       "      <td>0</td>\n",
       "      <td>0</td>\n",
       "      <td>0</td>\n",
       "      <td>0</td>\n",
       "      <td>0</td>\n",
       "      <td>0</td>\n",
       "      <td>0</td>\n",
       "      <td>0</td>\n",
       "      <td>0</td>\n",
       "      <td>1</td>\n",
       "    </tr>\n",
       "    <tr>\n",
       "      <th>75236</th>\n",
       "      <td>17</td>\n",
       "      <td>2.5</td>\n",
       "      <td>170.0</td>\n",
       "      <td>360000.0</td>\n",
       "      <td>4.0</td>\n",
       "      <td>3</td>\n",
       "      <td>0.0</td>\n",
       "      <td>1997.0</td>\n",
       "      <td>0</td>\n",
       "      <td>0</td>\n",
       "      <td>...</td>\n",
       "      <td>0</td>\n",
       "      <td>0</td>\n",
       "      <td>0</td>\n",
       "      <td>0</td>\n",
       "      <td>0</td>\n",
       "      <td>0</td>\n",
       "      <td>0</td>\n",
       "      <td>0</td>\n",
       "      <td>0</td>\n",
       "      <td>1</td>\n",
       "    </tr>\n",
       "    <tr>\n",
       "      <th>75237</th>\n",
       "      <td>596</td>\n",
       "      <td>2.0</td>\n",
       "      <td>184.0</td>\n",
       "      <td>90500.0</td>\n",
       "      <td>5.0</td>\n",
       "      <td>2</td>\n",
       "      <td>0.0</td>\n",
       "      <td>2013.0</td>\n",
       "      <td>1</td>\n",
       "      <td>0</td>\n",
       "      <td>...</td>\n",
       "      <td>1</td>\n",
       "      <td>1</td>\n",
       "      <td>0</td>\n",
       "      <td>0</td>\n",
       "      <td>0</td>\n",
       "      <td>0</td>\n",
       "      <td>0</td>\n",
       "      <td>1</td>\n",
       "      <td>0</td>\n",
       "      <td>0</td>\n",
       "    </tr>\n",
       "    <tr>\n",
       "      <th>75238</th>\n",
       "      <td>511</td>\n",
       "      <td>3.0</td>\n",
       "      <td>235.0</td>\n",
       "      <td>240000.0</td>\n",
       "      <td>5.0</td>\n",
       "      <td>3</td>\n",
       "      <td>0.0</td>\n",
       "      <td>2008.0</td>\n",
       "      <td>1</td>\n",
       "      <td>0</td>\n",
       "      <td>...</td>\n",
       "      <td>0</td>\n",
       "      <td>0</td>\n",
       "      <td>0</td>\n",
       "      <td>0</td>\n",
       "      <td>0</td>\n",
       "      <td>0</td>\n",
       "      <td>0</td>\n",
       "      <td>1</td>\n",
       "      <td>0</td>\n",
       "      <td>0</td>\n",
       "    </tr>\n",
       "  </tbody>\n",
       "</table>\n",
       "<p>75239 rows × 923 columns</p>\n",
       "</div>"
      ],
      "text/plain": [
       "       description  engine_displacement  engine_power   mileage  \\\n",
       "0             1588                  1.5         150.0   56000.0   \n",
       "1              360                  1.2         110.0  153000.0   \n",
       "2             1313                  1.6          90.0  151000.0   \n",
       "3              109                  2.0         115.0  318000.0   \n",
       "4              175                  2.0         140.0  297000.0   \n",
       "...            ...                  ...           ...       ...   \n",
       "75234          414                  1.6         136.0  115000.0   \n",
       "75235           30                  2.0         190.0   98000.0   \n",
       "75236           17                  2.5         170.0  360000.0   \n",
       "75237          596                  2.0         184.0   90500.0   \n",
       "75238          511                  3.0         235.0  240000.0   \n",
       "\n",
       "       number_of_doors  owners      price  production_date  vehicle_passport  \\\n",
       "0                  5.0       2  1600000.0           2017.0                 1   \n",
       "1                  5.0       1   830000.0           2016.0                 1   \n",
       "2                  5.0       2   730000.0           2012.0                 1   \n",
       "3                  5.0       3   180000.0           1998.0                 0   \n",
       "4                  5.0       4   460000.0           2010.0                 0   \n",
       "...                ...     ...        ...              ...               ...   \n",
       "75234              4.0       3        0.0           2014.0                 1   \n",
       "75235              4.0       1        0.0           2018.0                 1   \n",
       "75236              4.0       3        0.0           1997.0                 0   \n",
       "75237              5.0       2        0.0           2013.0                 1   \n",
       "75238              5.0       3        0.0           2008.0                 1   \n",
       "\n",
       "       vendor  ...  \"wheel-heat\"  \"wheel-leather\"  \"wheel-memory\"  \\\n",
       "0           0  ...             0                1               0   \n",
       "1           0  ...             0                0               0   \n",
       "2           0  ...             0                0               0   \n",
       "3           0  ...             0                0               0   \n",
       "4           0  ...             0                0               0   \n",
       "...       ...  ...           ...              ...             ...   \n",
       "75234       0  ...             1                1               0   \n",
       "75235       0  ...             0                0               0   \n",
       "75236       0  ...             0                0               0   \n",
       "75237       0  ...             1                1               0   \n",
       "75238       0  ...             0                0               0   \n",
       "\n",
       "       \"wheel-power\"  \"windcleaner-heat\"  \"windscreen-heat\"  \\\n",
       "0                  0                   0                  1   \n",
       "1                  0                   0                  0   \n",
       "2                  1                   0                  0   \n",
       "3                  0                   0                  0   \n",
       "4                  1                   0                  0   \n",
       "...              ...                 ...                ...   \n",
       "75234              0                   0                  0   \n",
       "75235              0                   0                  0   \n",
       "75236              0                   0                  0   \n",
       "75237              0                   0                  0   \n",
       "75238              0                   0                  0   \n",
       "\n",
       "       \"wireless-charger\"  \"xenon\"  \"ya-auto\"  n  \n",
       "0                       0        0          0  0  \n",
       "1                       0        0          0  1  \n",
       "2                       0        0          0  0  \n",
       "3                       0        0          0  1  \n",
       "4                       0        0          0  0  \n",
       "...                   ...      ...        ... ..  \n",
       "75234                   0        1          0  0  \n",
       "75235                   0        0          0  1  \n",
       "75236                   0        0          0  1  \n",
       "75237                   0        1          0  0  \n",
       "75238                   0        1          0  0  \n",
       "\n",
       "[75239 rows x 923 columns]"
      ]
     },
     "execution_count": 56,
     "metadata": {},
     "output_type": "execute_result"
    }
   ],
   "source": [
    "df"
   ]
  },
  {
   "cell_type": "code",
   "execution_count": 57,
   "metadata": {},
   "outputs": [],
   "source": [
    "# по объявлениям 2021 года (тестовый датасет за 2020 год) \n",
    "# умножим 'price' на коэффициент 0.86\n",
    "\n",
    "for index in df.index:\n",
    "    if df.loc[index, 'price'] > 0:\n",
    "        df.loc[index, 'price'] = df.loc[index, 'price']*0.86"
   ]
  },
  {
   "cell_type": "code",
   "execution_count": 58,
   "metadata": {},
   "outputs": [],
   "source": [
    "# разделяем тестовую и обучающую выборки\n",
    "X = df.query('sample == 1').drop(['price', 'sample'], axis=1).reset_index(drop=True)\n",
    "X_sub = df.query('sample == 0').drop(['price', 'sample'], axis=1)\n",
    "y = df.query('sample == 1').price.reset_index(drop=True)"
   ]
  },
  {
   "cell_type": "code",
   "execution_count": 60,
   "metadata": {},
   "outputs": [],
   "source": [
    "X_train, X_test, y_train, y_test = train_test_split(\n",
    "    X, y, test_size=val_size, shuffle=True, random_state=random_seed)"
   ]
  },
  {
   "cell_type": "code",
   "execution_count": 61,
   "metadata": {},
   "outputs": [],
   "source": [
    "def mape(y_true, y_pred): \n",
    "    y_true, y_pred = np.array(y_true), np.array(y_pred)\n",
    "    return np.mean(np.abs((y_true - y_pred)/y_true))"
   ]
  },
  {
   "cell_type": "code",
   "execution_count": 63,
   "metadata": {},
   "outputs": [
    {
     "name": "stdout",
     "output_type": "stream",
     "text": [
      "Точность модели по метрике MAPE: 1.14%\n"
     ]
    }
   ],
   "source": [
    "# задаем параметры модели\n",
    "model_CBR = CatBoostRegressor(iterations = 5000,\n",
    "                          random_seed = random_seed,\n",
    "                          eval_metric='MAPE',\n",
    "                          custom_metric=['R2', 'MAE'],\n",
    "                          silent=True,\n",
    "                         )\n",
    "\n",
    "# проводим обучение\n",
    "model_CBR.fit(X_train, np.log(y_train),\n",
    "         eval_set=(X_test, np.log(y_test)),\n",
    "         verbose_eval=0,\n",
    "         use_best_model=True,\n",
    "         )\n",
    "\n",
    "model_CBR.save_model('catboost_single_2_model.model')\n",
    "\n",
    "# оцениваем точность\n",
    "predict_test = np.exp(model_CBR.predict(X_test))\n",
    "print(f\"Точность модели по метрике MAPE: {(mape(y_test, predict_test))*100:0.2f}%\")"
   ]
  },
  {
   "cell_type": "code",
   "execution_count": null,
   "metadata": {},
   "outputs": [],
   "source": []
  }
 ],
 "metadata": {
  "kernelspec": {
   "display_name": "Python 3",
   "language": "python",
   "name": "python3"
  },
  "language_info": {
   "codemirror_mode": {
    "name": "ipython",
    "version": 3
   },
   "file_extension": ".py",
   "mimetype": "text/x-python",
   "name": "python",
   "nbconvert_exporter": "python",
   "pygments_lexer": "ipython3",
   "version": "3.8.5"
  }
 },
 "nbformat": 4,
 "nbformat_minor": 4
}
